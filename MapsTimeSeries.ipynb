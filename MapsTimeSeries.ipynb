{
 "cells": [
  {
   "cell_type": "markdown",
   "id": "534f16f4",
   "metadata": {},
   "source": [
    "\n"
   ]
  },
  {
   "cell_type": "code",
   "execution_count": null,
   "id": "b70a58c8",
   "metadata": {},
   "outputs": [],
   "source": []
  },
  {
   "cell_type": "code",
   "execution_count": null,
   "id": "49d7c720",
   "metadata": {},
   "outputs": [],
   "source": [
    "https://github.com/yohman/remote-sensing-ndwi/blob/main/ndwi.ipynb"
   ]
  },
  {
   "cell_type": "code",
   "execution_count": null,
   "id": "70caf49e",
   "metadata": {},
   "outputs": [],
   "source": []
  },
  {
   "cell_type": "code",
   "execution_count": 522,
   "id": "2b7c49b3",
   "metadata": {},
   "outputs": [],
   "source": [
    "import pandas as pd\n",
    "\n",
    "import geopandas as gpd\n",
    "\n",
    "# earth engine\n",
    "import ee\n",
    "\n",
    "# allow images to display in the notebook\n",
    "from IPython.display import Image,display\n",
    "\n",
    "import math\n",
    "import numpy\n",
    "from matplotlib import pyplot\n",
    "import ee\n",
    "\n"
   ]
  },
  {
   "cell_type": "markdown",
   "id": "b5cf386c",
   "metadata": {},
   "source": [
    "Time Series wit\n",
    "https://github.com/tylere/ee-jupyter-examples/blob/master/3%20-%20Example%20Time%20Series%20-%20Landsat.ipynb\n",
    "\n",
    "\n",
    "Deep learning with satelites images\n",
    "\n",
    "https://github.com/tylere/ee-jupyter-examples/tree/master\n",
    "\n",
    "https://github.com/prodramp/DeepWorks/tree/main/DL-SatelliteImagery\n",
    "\n",
    "\n",
    "Unsupervised Learning in Satellite Imagery using Python\n",
    "\n",
    "https://github.com/syamkakarla98/Satellite_Imagery_Analysis/blob/main/code/Unsupervised_Learning_in_Satellite_Imagery_using_Python.ipynb\n",
    "\n",
    "Land Cover Classification in Satellite Imagery using Python\n",
    "\n",
    "https://github.com/syamkakarla98/Satellite_Imagery_Analysis/blob/main/Classification/Land_Cover_Classification_in_Satellite_Imagery_using_Python.ipynb\n",
    "\n",
    "\n",
    "Coastline extraction using Landsat-8 multispectral imagery and band ratio technique\n",
    "\n",
    "https://developers.arcgis.com/python/samples/coastline-extraction-usa-landsat8-multispectral-imagery/\n",
    "\n",
    "\n",
    "Para obtener información sobre Earth Engine Python API, modelos y series de tiempo\n",
    "\n",
    "https://developers.google.com/earth-engine/tutorials/community/intro-to-python-api\n",
    "\n",
    "\n",
    "https://www.youtube.com/watch?v=gi4UdFsayoM\n",
    "\n",
    "\n",
    "Earth Engine 101\n",
    "\n",
    "https://github.com/tylere/ee-jupyter-examples/blob/master/2%20-%20EE%20101.ipynb\n",
    "\n",
    "https://notebook.community/tylere/ee-jupyter-examples/2%20-%20EE%20101\n"
   ]
  },
  {
   "cell_type": "code",
   "execution_count": 523,
   "id": "a1936bbc",
   "metadata": {},
   "outputs": [
    {
     "data": {
      "text/html": [
       "<p>To authorize access needed by Earth Engine, open the following\n",
       "        URL in a web browser and follow the instructions:</p>\n",
       "        <p><a href=https://code.earthengine.google.com/client-auth?scopes=https%3A//www.googleapis.com/auth/earthengine%20https%3A//www.googleapis.com/auth/devstorage.full_control&request_id=IemrVtQHXzWW6hxuoQY4i9ctc27jnjVWOvHzTfSv9vQ&tc=XLWwijRB0ScSEDAewzTTcd3EGEkLEk94k8HllCxGaDU&cc=uoQCuVlfqePTlZfz3sJjugYe5O-jLVUEoFsrheYEJ4w>https://code.earthengine.google.com/client-auth?scopes=https%3A//www.googleapis.com/auth/earthengine%20https%3A//www.googleapis.com/auth/devstorage.full_control&request_id=IemrVtQHXzWW6hxuoQY4i9ctc27jnjVWOvHzTfSv9vQ&tc=XLWwijRB0ScSEDAewzTTcd3EGEkLEk94k8HllCxGaDU&cc=uoQCuVlfqePTlZfz3sJjugYe5O-jLVUEoFsrheYEJ4w</a></p>\n",
       "        <p>The authorization workflow will generate a code, which you should paste in the box below.</p>\n",
       "        "
      ],
      "text/plain": [
       "<IPython.core.display.HTML object>"
      ]
     },
     "metadata": {},
     "output_type": "display_data"
    },
    {
     "name": "stdout",
     "output_type": "stream",
     "text": [
      "Enter verification code: 4/1AbUR2VPhfVC4ncwdcqKo6aaHZldRoEuTo-TdBdkqKSQa1qm3Y3zBdEJZfPM\n",
      "\n",
      "Successfully saved authorization token.\n"
     ]
    }
   ],
   "source": [
    "ee.Authenticate()\n",
    "\n",
    "ee.Initialize()"
   ]
  },
  {
   "cell_type": "code",
   "execution_count": null,
   "id": "52c742fd",
   "metadata": {},
   "outputs": [],
   "source": []
  },
  {
   "cell_type": "code",
   "execution_count": null,
   "id": "caf0e7a9",
   "metadata": {},
   "outputs": [],
   "source": []
  },
  {
   "cell_type": "markdown",
   "id": "cf8b7bcd",
   "metadata": {},
   "source": [
    "Analisis de imágenes del satélite Landsat\n",
    "\n",
    "https://github.com/tylere/ee-jupyter-examples/blob/master/3%20-%20Example%20Time%20Series%20-%20Landsat.ipynb"
   ]
  },
  {
   "cell_type": "code",
   "execution_count": 524,
   "id": "c4d9efe6",
   "metadata": {},
   "outputs": [],
   "source": [
    "\n",
    "#San Fernando, chile ; Latitud & longitud: -34.5858603, -70.9907801\n",
    "\n",
    "#Plaza San Fernando -34.583939, -70.989067\n",
    "\n",
    "lat =  -34.583939\n",
    "lon = -70.989067\n",
    "\n",
    "# point of interest as an ee.Geometry\n",
    "point = ee.Geometry.Point(lon,lat)\n",
    "\n",
    "# start date of range to filter for\n",
    "start_date = '2022-01-01'\n",
    "\n",
    "# end date\n",
    "end_date = '2023-05-31'"
   ]
  },
  {
   "cell_type": "code",
   "execution_count": 525,
   "id": "8cdd0c38",
   "metadata": {},
   "outputs": [],
   "source": [
    "# get the satellite data\n",
    "landsat = ee.ImageCollection(\"LANDSAT/LC08/C02/T1_L2\")\\\n",
    "            .filterBounds(point)\\\n",
    "            .filterDate(start_date,end_date)\n"
   ]
  },
  {
   "cell_type": "code",
   "execution_count": null,
   "id": "6611cb3b",
   "metadata": {},
   "outputs": [],
   "source": []
  },
  {
   "cell_type": "code",
   "execution_count": 526,
   "id": "5b021fe1",
   "metadata": {},
   "outputs": [
    {
     "name": "stdout",
     "output_type": "stream",
     "text": [
      "Total number: 30\n"
     ]
    }
   ],
   "source": [
    "# how many images did we get?\n",
    "print('Total number:', landsat.size().getInfo())"
   ]
  },
  {
   "cell_type": "code",
   "execution_count": 479,
   "id": "ae86d480",
   "metadata": {},
   "outputs": [
    {
     "data": {
      "text/plain": [
       "{'type': 'Image',\n",
       " 'bands': [{'id': 'SR_B1',\n",
       "   'data_type': {'type': 'PixelType',\n",
       "    'precision': 'int',\n",
       "    'min': 0,\n",
       "    'max': 65535},\n",
       "   'dimensions': [7661, 7721],\n",
       "   'crs': 'EPSG:32619',\n",
       "   'crs_transform': [30, 0, 193785, 0, -30, -3716385]},\n",
       "  {'id': 'SR_B2',\n",
       "   'data_type': {'type': 'PixelType',\n",
       "    'precision': 'int',\n",
       "    'min': 0,\n",
       "    'max': 65535},\n",
       "   'dimensions': [7661, 7721],\n",
       "   'crs': 'EPSG:32619',\n",
       "   'crs_transform': [30, 0, 193785, 0, -30, -3716385]},\n",
       "  {'id': 'SR_B3',\n",
       "   'data_type': {'type': 'PixelType',\n",
       "    'precision': 'int',\n",
       "    'min': 0,\n",
       "    'max': 65535},\n",
       "   'dimensions': [7661, 7721],\n",
       "   'crs': 'EPSG:32619',\n",
       "   'crs_transform': [30, 0, 193785, 0, -30, -3716385]},\n",
       "  {'id': 'SR_B4',\n",
       "   'data_type': {'type': 'PixelType',\n",
       "    'precision': 'int',\n",
       "    'min': 0,\n",
       "    'max': 65535},\n",
       "   'dimensions': [7661, 7721],\n",
       "   'crs': 'EPSG:32619',\n",
       "   'crs_transform': [30, 0, 193785, 0, -30, -3716385]},\n",
       "  {'id': 'SR_B5',\n",
       "   'data_type': {'type': 'PixelType',\n",
       "    'precision': 'int',\n",
       "    'min': 0,\n",
       "    'max': 65535},\n",
       "   'dimensions': [7661, 7721],\n",
       "   'crs': 'EPSG:32619',\n",
       "   'crs_transform': [30, 0, 193785, 0, -30, -3716385]},\n",
       "  {'id': 'SR_B6',\n",
       "   'data_type': {'type': 'PixelType',\n",
       "    'precision': 'int',\n",
       "    'min': 0,\n",
       "    'max': 65535},\n",
       "   'dimensions': [7661, 7721],\n",
       "   'crs': 'EPSG:32619',\n",
       "   'crs_transform': [30, 0, 193785, 0, -30, -3716385]},\n",
       "  {'id': 'SR_B7',\n",
       "   'data_type': {'type': 'PixelType',\n",
       "    'precision': 'int',\n",
       "    'min': 0,\n",
       "    'max': 65535},\n",
       "   'dimensions': [7661, 7721],\n",
       "   'crs': 'EPSG:32619',\n",
       "   'crs_transform': [30, 0, 193785, 0, -30, -3716385]},\n",
       "  {'id': 'SR_QA_AEROSOL',\n",
       "   'data_type': {'type': 'PixelType',\n",
       "    'precision': 'int',\n",
       "    'min': 0,\n",
       "    'max': 255},\n",
       "   'dimensions': [7661, 7721],\n",
       "   'crs': 'EPSG:32619',\n",
       "   'crs_transform': [30, 0, 193785, 0, -30, -3716385]},\n",
       "  {'id': 'ST_B10',\n",
       "   'data_type': {'type': 'PixelType',\n",
       "    'precision': 'int',\n",
       "    'min': 0,\n",
       "    'max': 65535},\n",
       "   'dimensions': [7661, 7721],\n",
       "   'crs': 'EPSG:32619',\n",
       "   'crs_transform': [30, 0, 193785, 0, -30, -3716385]},\n",
       "  {'id': 'ST_ATRAN',\n",
       "   'data_type': {'type': 'PixelType',\n",
       "    'precision': 'int',\n",
       "    'min': -32768,\n",
       "    'max': 32767},\n",
       "   'dimensions': [7661, 7721],\n",
       "   'crs': 'EPSG:32619',\n",
       "   'crs_transform': [30, 0, 193785, 0, -30, -3716385]},\n",
       "  {'id': 'ST_CDIST',\n",
       "   'data_type': {'type': 'PixelType',\n",
       "    'precision': 'int',\n",
       "    'min': -32768,\n",
       "    'max': 32767},\n",
       "   'dimensions': [7661, 7721],\n",
       "   'crs': 'EPSG:32619',\n",
       "   'crs_transform': [30, 0, 193785, 0, -30, -3716385]},\n",
       "  {'id': 'ST_DRAD',\n",
       "   'data_type': {'type': 'PixelType',\n",
       "    'precision': 'int',\n",
       "    'min': -32768,\n",
       "    'max': 32767},\n",
       "   'dimensions': [7661, 7721],\n",
       "   'crs': 'EPSG:32619',\n",
       "   'crs_transform': [30, 0, 193785, 0, -30, -3716385]},\n",
       "  {'id': 'ST_EMIS',\n",
       "   'data_type': {'type': 'PixelType',\n",
       "    'precision': 'int',\n",
       "    'min': -32768,\n",
       "    'max': 32767},\n",
       "   'dimensions': [7661, 7721],\n",
       "   'crs': 'EPSG:32619',\n",
       "   'crs_transform': [30, 0, 193785, 0, -30, -3716385]},\n",
       "  {'id': 'ST_EMSD',\n",
       "   'data_type': {'type': 'PixelType',\n",
       "    'precision': 'int',\n",
       "    'min': -32768,\n",
       "    'max': 32767},\n",
       "   'dimensions': [7661, 7721],\n",
       "   'crs': 'EPSG:32619',\n",
       "   'crs_transform': [30, 0, 193785, 0, -30, -3716385]},\n",
       "  {'id': 'ST_QA',\n",
       "   'data_type': {'type': 'PixelType',\n",
       "    'precision': 'int',\n",
       "    'min': -32768,\n",
       "    'max': 32767},\n",
       "   'dimensions': [7661, 7721],\n",
       "   'crs': 'EPSG:32619',\n",
       "   'crs_transform': [30, 0, 193785, 0, -30, -3716385]},\n",
       "  {'id': 'ST_TRAD',\n",
       "   'data_type': {'type': 'PixelType',\n",
       "    'precision': 'int',\n",
       "    'min': -32768,\n",
       "    'max': 32767},\n",
       "   'dimensions': [7661, 7721],\n",
       "   'crs': 'EPSG:32619',\n",
       "   'crs_transform': [30, 0, 193785, 0, -30, -3716385]},\n",
       "  {'id': 'ST_URAD',\n",
       "   'data_type': {'type': 'PixelType',\n",
       "    'precision': 'int',\n",
       "    'min': -32768,\n",
       "    'max': 32767},\n",
       "   'dimensions': [7661, 7721],\n",
       "   'crs': 'EPSG:32619',\n",
       "   'crs_transform': [30, 0, 193785, 0, -30, -3716385]},\n",
       "  {'id': 'QA_PIXEL',\n",
       "   'data_type': {'type': 'PixelType',\n",
       "    'precision': 'int',\n",
       "    'min': 0,\n",
       "    'max': 65535},\n",
       "   'dimensions': [7661, 7721],\n",
       "   'crs': 'EPSG:32619',\n",
       "   'crs_transform': [30, 0, 193785, 0, -30, -3716385]},\n",
       "  {'id': 'QA_RADSAT',\n",
       "   'data_type': {'type': 'PixelType',\n",
       "    'precision': 'int',\n",
       "    'min': 0,\n",
       "    'max': 65535},\n",
       "   'dimensions': [7661, 7721],\n",
       "   'crs': 'EPSG:32619',\n",
       "   'crs_transform': [30, 0, 193785, 0, -30, -3716385]}],\n",
       " 'id': 'LANDSAT/LC08/C02/T1_L2/LC08_233084_20220115',\n",
       " 'version': 1643082863492377,\n",
       " 'properties': {'DATA_SOURCE_ELEVATION': 'GLS2000',\n",
       "  'WRS_TYPE': 2,\n",
       "  'REFLECTANCE_ADD_BAND_1': -0.2,\n",
       "  'REFLECTANCE_ADD_BAND_2': -0.2,\n",
       "  'DATUM': 'WGS84',\n",
       "  'REFLECTANCE_ADD_BAND_3': -0.2,\n",
       "  'REFLECTANCE_ADD_BAND_4': -0.2,\n",
       "  'REFLECTANCE_ADD_BAND_5': -0.2,\n",
       "  'REFLECTANCE_ADD_BAND_6': -0.2,\n",
       "  'REFLECTANCE_ADD_BAND_7': -0.2,\n",
       "  'system:footprint': {'type': 'LinearRing',\n",
       "   'coordinates': [[-70.22319193619053, -33.87415421105201],\n",
       "    [-70.58648214003156, -33.80535435626003],\n",
       "    [-71.46395523414824, -33.63433393835005],\n",
       "    [-71.84224662776037, -33.55848867078332],\n",
       "    [-71.84285926820348, -33.559447761877024],\n",
       "    [-71.87547144367512, -33.67183923915285],\n",
       "    [-71.92942920288591, -33.857187972935456],\n",
       "    [-72.0101692822486, -34.13355821644123],\n",
       "    [-72.07348704243341, -34.349137734367126],\n",
       "    [-72.15872052620989, -34.63784434725478],\n",
       "    [-72.22066145426365, -34.84664905374144],\n",
       "    [-72.29368302837061, -35.091804614524804],\n",
       "    [-72.34714872863272, -35.27041411957547],\n",
       "    [-72.34119517804986, -35.27167336684405],\n",
       "    [-70.9418169705858, -35.545411766396356],\n",
       "    [-70.32653983330309, -35.660113551270534],\n",
       "    [-70.29934369679842, -35.56533861090135],\n",
       "    [-70.26044868510543, -35.423340367879966],\n",
       "    [-69.91961174979697, -34.15376142774264],\n",
       "    [-69.88687188064817, -34.02751050015598],\n",
       "    [-69.86531934978927, -33.94078077226325],\n",
       "    [-70.22319193619053, -33.87415421105201]]},\n",
       "  'REFLECTIVE_SAMPLES': 7661,\n",
       "  'GROUND_CONTROL_POINTS_VERSION': 5,\n",
       "  'SUN_AZIMUTH': 75.37308261,\n",
       "  'DATA_SOURCE_TIRS_STRAY_LIGHT_CORRECTION': 'TIRS',\n",
       "  'UTM_ZONE': 19,\n",
       "  'DATE_ACQUIRED': '2022-01-15',\n",
       "  'ELLIPSOID': 'WGS84',\n",
       "  'system:time_end': 1642257257696,\n",
       "  'DATA_SOURCE_PRESSURE': 'Calculated',\n",
       "  'LANDSAT_PRODUCT_ID': 'LC08_L2SP_233084_20220115_20220123_02_T1',\n",
       "  'STATION_ID': 'LGN',\n",
       "  'TEMPERATURE_ADD_BAND_ST_B10': 149,\n",
       "  'DATA_SOURCE_REANALYSIS': 'GEOS-5 FP-IT',\n",
       "  'REFLECTANCE_MULT_BAND_7': 2.75e-05,\n",
       "  'system:time_start': 1642257257696,\n",
       "  'REFLECTANCE_MULT_BAND_6': 2.75e-05,\n",
       "  'L1_PROCESSING_LEVEL': 'L1TP',\n",
       "  'PROCESSING_SOFTWARE_VERSION': 'LPGS_15.6.0',\n",
       "  'L1_DATE_PRODUCT_GENERATED': '2022-01-23T06:00:15Z',\n",
       "  'ORIENTATION': 'NORTH_UP',\n",
       "  'REFLECTANCE_MULT_BAND_1': 2.75e-05,\n",
       "  'WRS_ROW': 84,\n",
       "  'REFLECTANCE_MULT_BAND_3': 2.75e-05,\n",
       "  'REFLECTANCE_MULT_BAND_2': 2.75e-05,\n",
       "  'TARGET_WRS_ROW': 84,\n",
       "  'REFLECTANCE_MULT_BAND_5': 2.75e-05,\n",
       "  'REFLECTANCE_MULT_BAND_4': 2.75e-05,\n",
       "  'THERMAL_LINES': 7721,\n",
       "  'TIRS_SSM_POSITION_STATUS': 'ESTIMATED',\n",
       "  'GRID_CELL_SIZE_THERMAL': 30,\n",
       "  'IMAGE_QUALITY_TIRS': 9,\n",
       "  'TRUNCATION_OLI': 'UPPER',\n",
       "  'NADIR_OFFNADIR': 'NADIR',\n",
       "  'CLOUD_COVER': 15.15,\n",
       "  'REQUEST_ID': 'P701891eafla5_00035',\n",
       "  'EARTH_SUN_DISTANCE': 0.9836303,\n",
       "  'GEOMETRIC_RMSE_VERIFY': 2.692,\n",
       "  'TIRS_SSM_MODEL': 'FINAL',\n",
       "  'COLLECTION_CATEGORY': 'T1',\n",
       "  'SCENE_CENTER_TIME': '14:34:17.6962940Z',\n",
       "  'GRID_CELL_SIZE_REFLECTIVE': 30,\n",
       "  'SUN_ELEVATION': 56.53639543,\n",
       "  'ALGORITHM_SOURCE_SURFACE_TEMPERATURE': 'st_1.3.0',\n",
       "  'TEMPERATURE_MAXIMUM_BAND_ST_B10': 372.999941,\n",
       "  'CLOUD_COVER_LAND': 11.68,\n",
       "  'GEOMETRIC_RMSE_MODEL': 5.728,\n",
       "  'ROLL_ANGLE': -0.001,\n",
       "  'COLLECTION_NUMBER': 2,\n",
       "  'DATE_PRODUCT_GENERATED': 1642918506000,\n",
       "  'L1_REQUEST_ID': 'P701891eafla5_00035',\n",
       "  'DATA_SOURCE_OZONE': 'MODIS',\n",
       "  'SATURATION_BAND_1': 'N',\n",
       "  'DATA_SOURCE_WATER_VAPOR': 'MODIS',\n",
       "  'SATURATION_BAND_2': 'N',\n",
       "  'SATURATION_BAND_3': 'N',\n",
       "  'IMAGE_QUALITY_OLI': 9,\n",
       "  'SATURATION_BAND_4': 'N',\n",
       "  'LANDSAT_SCENE_ID': 'LC82330842022015LGN00',\n",
       "  'SATURATION_BAND_5': 'N',\n",
       "  'MAP_PROJECTION': 'UTM',\n",
       "  'SATURATION_BAND_6': 'Y',\n",
       "  'SENSOR_ID': 'OLI_TIRS',\n",
       "  'SATURATION_BAND_7': 'Y',\n",
       "  'SATURATION_BAND_8': 'N',\n",
       "  'WRS_PATH': 233,\n",
       "  'SATURATION_BAND_9': 'N',\n",
       "  'TARGET_WRS_PATH': 233,\n",
       "  'L1_PROCESSING_SOFTWARE_VERSION': 'LPGS_15.6.0',\n",
       "  'TEMPERATURE_MULT_BAND_ST_B10': 0.00341802,\n",
       "  'L1_LANDSAT_PRODUCT_ID': 'LC08_L1TP_233084_20220115_20220123_02_T1',\n",
       "  'PROCESSING_LEVEL': 'L2SP',\n",
       "  'ALGORITHM_SOURCE_SURFACE_REFLECTANCE': 'LaSRC_1.5.0',\n",
       "  'GROUND_CONTROL_POINTS_MODEL': 789,\n",
       "  'SPACECRAFT_ID': 'LANDSAT_8',\n",
       "  'TEMPERATURE_MINIMUM_BAND_ST_B10': 149.003418,\n",
       "  'GEOMETRIC_RMSE_MODEL_Y': 3.981,\n",
       "  'REFLECTIVE_LINES': 7721,\n",
       "  'GEOMETRIC_RMSE_MODEL_X': 4.118,\n",
       "  'THERMAL_SAMPLES': 7661,\n",
       "  'system:asset_size': 1074273131,\n",
       "  'DATA_SOURCE_AIR_TEMPERATURE': 'MODIS',\n",
       "  'GROUND_CONTROL_POINTS_VERIFY': 223,\n",
       "  'system:index': 'LC08_233084_20220115'}}"
      ]
     },
     "execution_count": 479,
     "metadata": {},
     "output_type": "execute_result"
    }
   ],
   "source": [
    "# information about the first image in our collection\n",
    "landsat.first().getInfo()"
   ]
  },
  {
   "cell_type": "code",
   "execution_count": 480,
   "id": "30a57c71",
   "metadata": {},
   "outputs": [
    {
     "data": {
      "text/plain": [
       "15.15"
      ]
     },
     "execution_count": 480,
     "metadata": {},
     "output_type": "execute_result"
    }
   ],
   "source": [
    "# what about cloud cover of our first image?\n",
    "landsat.first().get('CLOUD_COVER').getInfo()"
   ]
  },
  {
   "cell_type": "code",
   "execution_count": 481,
   "id": "fa92464b",
   "metadata": {},
   "outputs": [
    {
     "data": {
      "text/plain": [
       "'2022-01-15'"
      ]
     },
     "execution_count": 481,
     "metadata": {},
     "output_type": "execute_result"
    }
   ],
   "source": [
    "# when was this image taken?\n",
    "landsat.first().get('DATE_ACQUIRED').getInfo()"
   ]
  },
  {
   "cell_type": "code",
   "execution_count": 527,
   "id": "81c8a528",
   "metadata": {},
   "outputs": [
    {
     "data": {
      "text/plain": [
       "['SR_B1',\n",
       " 'SR_B2',\n",
       " 'SR_B3',\n",
       " 'SR_B4',\n",
       " 'SR_B5',\n",
       " 'SR_B6',\n",
       " 'SR_B7',\n",
       " 'SR_QA_AEROSOL',\n",
       " 'ST_B10',\n",
       " 'ST_ATRAN',\n",
       " 'ST_CDIST',\n",
       " 'ST_DRAD',\n",
       " 'ST_EMIS',\n",
       " 'ST_EMSD',\n",
       " 'ST_QA',\n",
       " 'ST_TRAD',\n",
       " 'ST_URAD',\n",
       " 'QA_PIXEL',\n",
       " 'QA_RADSAT']"
      ]
     },
     "execution_count": 527,
     "metadata": {},
     "output_type": "execute_result"
    }
   ],
   "source": [
    "# what bands did we get?\n",
    "landsat.first().bandNames().getInfo()"
   ]
  },
  {
   "cell_type": "code",
   "execution_count": 528,
   "id": "e43f4d9e",
   "metadata": {},
   "outputs": [],
   "source": [
    "# put the images in a list\n",
    "landsat_list = landsat.toList(landsat.size());"
   ]
  },
  {
   "cell_type": "code",
   "execution_count": 530,
   "id": "79abbea6",
   "metadata": {},
   "outputs": [
    {
     "name": "stdout",
     "output_type": "stream",
     "text": [
      "ee.List({\n",
      "  \"functionInvocationValue\": {\n",
      "    \"functionName\": \"Collection.toList\",\n",
      "    \"arguments\": {\n",
      "      \"collection\": {\n",
      "        \"functionInvocationValue\": {\n",
      "          \"functionName\": \"Collection.filter\",\n",
      "          \"arguments\": {\n",
      "            \"collection\": {\n",
      "              \"functionInvocationValue\": {\n",
      "                \"functionName\": \"Collection.filter\",\n",
      "                \"arguments\": {\n",
      "                  \"collection\": {\n",
      "                    \"functionInvocationValue\": {\n",
      "                      \"functionName\": \"ImageCollection.load\",\n",
      "                      \"arguments\": {\n",
      "                        \"id\": {\n",
      "                          \"constantValue\": \"LANDSAT/LC08/C02/T1_L2\"\n",
      "                        }\n",
      "                      }\n",
      "                    }\n",
      "                  },\n",
      "                  \"filter\": {\n",
      "                    \"functionInvocationValue\": {\n",
      "                      \"functionName\": \"Filter.intersects\",\n",
      "                      \"arguments\": {\n",
      "                        \"leftField\": {\n",
      "                          \"constantValue\": \".all\"\n",
      "                        },\n",
      "                        \"rightValue\": {\n",
      "                          \"functionInvocationValue\": {\n",
      "                            \"functionName\": \"Feature\",\n",
      "                            \"arguments\": {\n",
      "                              \"geometry\": {\n",
      "                                \"functionInvocationValue\": {\n",
      "                                  \"functionName\": \"GeometryConstructors.Point\",\n",
      "                                  \"arguments\": {\n",
      "                                    \"coordinates\": {\n",
      "                                      \"constantValue\": [\n",
      "                                        -70.989067,\n",
      "                                        -34.583939\n",
      "                                      ]\n",
      "                                    }\n",
      "                                  }\n",
      "                                }\n",
      "                              }\n",
      "                            }\n",
      "                          }\n",
      "                        }\n",
      "                      }\n",
      "                    }\n",
      "                  }\n",
      "                }\n",
      "              }\n",
      "            },\n",
      "            \"filter\": {\n",
      "              \"functionInvocationValue\": {\n",
      "                \"functionName\": \"Filter.dateRangeContains\",\n",
      "                \"arguments\": {\n",
      "                  \"leftValue\": {\n",
      "                    \"functionInvocationValue\": {\n",
      "                      \"functionName\": \"DateRange\",\n",
      "                      \"arguments\": {\n",
      "                        \"end\": {\n",
      "                          \"constantValue\": \"2023-05-31\"\n",
      "                        },\n",
      "                        \"start\": {\n",
      "                          \"constantValue\": \"2022-01-01\"\n",
      "                        }\n",
      "                      }\n",
      "                    }\n",
      "                  },\n",
      "                  \"rightField\": {\n",
      "                    \"constantValue\": \"system:time_start\"\n",
      "                  }\n",
      "                }\n",
      "              }\n",
      "            }\n",
      "          }\n",
      "        }\n",
      "      },\n",
      "      \"count\": {\n",
      "        \"functionInvocationValue\": {\n",
      "          \"functionName\": \"Collection.size\",\n",
      "          \"arguments\": {\n",
      "            \"collection\": {\n",
      "              \"functionInvocationValue\": {\n",
      "                \"functionName\": \"Collection.filter\",\n",
      "                \"arguments\": {\n",
      "                  \"collection\": {\n",
      "                    \"functionInvocationValue\": {\n",
      "                      \"functionName\": \"Collection.filter\",\n",
      "                      \"arguments\": {\n",
      "                        \"collection\": {\n",
      "                          \"functionInvocationValue\": {\n",
      "                            \"functionName\": \"ImageCollection.load\",\n",
      "                            \"arguments\": {\n",
      "                              \"id\": {\n",
      "                                \"constantValue\": \"LANDSAT/LC08/C02/T1_L2\"\n",
      "                              }\n",
      "                            }\n",
      "                          }\n",
      "                        },\n",
      "                        \"filter\": {\n",
      "                          \"functionInvocationValue\": {\n",
      "                            \"functionName\": \"Filter.intersects\",\n",
      "                            \"arguments\": {\n",
      "                              \"leftField\": {\n",
      "                                \"constantValue\": \".all\"\n",
      "                              },\n",
      "                              \"rightValue\": {\n",
      "                                \"functionInvocationValue\": {\n",
      "                                  \"functionName\": \"Feature\",\n",
      "                                  \"arguments\": {\n",
      "                                    \"geometry\": {\n",
      "                                      \"functionInvocationValue\": {\n",
      "                                        \"functionName\": \"GeometryConstructors.Point\",\n",
      "                                        \"arguments\": {\n",
      "                                          \"coordinates\": {\n",
      "                                            \"constantValue\": [\n",
      "                                              -70.989067,\n",
      "                                              -34.583939\n",
      "                                            ]\n",
      "                                          }\n",
      "                                        }\n",
      "                                      }\n",
      "                                    }\n",
      "                                  }\n",
      "                                }\n",
      "                              }\n",
      "                            }\n",
      "                          }\n",
      "                        }\n",
      "                      }\n",
      "                    }\n",
      "                  },\n",
      "                  \"filter\": {\n",
      "                    \"functionInvocationValue\": {\n",
      "                      \"functionName\": \"Filter.dateRangeContains\",\n",
      "                      \"arguments\": {\n",
      "                        \"leftValue\": {\n",
      "                          \"functionInvocationValue\": {\n",
      "                            \"functionName\": \"DateRange\",\n",
      "                            \"arguments\": {\n",
      "                              \"end\": {\n",
      "                                \"constantValue\": \"2023-05-31\"\n",
      "                              },\n",
      "                              \"start\": {\n",
      "                                \"constantValue\": \"2022-01-01\"\n",
      "                              }\n",
      "                            }\n",
      "                          }\n",
      "                        },\n",
      "                        \"rightField\": {\n",
      "                          \"constantValue\": \"system:time_start\"\n",
      "                        }\n",
      "                      }\n",
      "                    }\n",
      "                  }\n",
      "                }\n",
      "              }\n",
      "            }\n",
      "          }\n",
      "        }\n",
      "      }\n",
      "    }\n",
      "  }\n",
      "})\n"
     ]
    }
   ],
   "source": [
    "print(landsat_list)"
   ]
  },
  {
   "cell_type": "code",
   "execution_count": 531,
   "id": "21984be3",
   "metadata": {},
   "outputs": [],
   "source": [
    "# set some parameters for the images\n",
    "parameters = {\n",
    "                'min': 7000,\n",
    "                'max': 16000,\n",
    "                'dimensions': 800, # square size in pixels\n",
    "                'bands': ['SR_B4', 'SR_B3', 'SR_B2'] # bands to display (r,g,b)\n",
    "             }"
   ]
  },
  {
   "cell_type": "code",
   "execution_count": null,
   "id": "2161032b",
   "metadata": {},
   "outputs": [],
   "source": []
  },
  {
   "cell_type": "code",
   "execution_count": null,
   "id": "1ee47948",
   "metadata": {},
   "outputs": [],
   "source": []
  },
  {
   "cell_type": "code",
   "execution_count": 532,
   "id": "8df86df2",
   "metadata": {
    "scrolled": false
   },
   "outputs": [
    {
     "name": "stdout",
     "output_type": "stream",
     "text": [
      "Image # 0 2022-01-15 Cloud cover: 15.15\n",
      "Image # 1 2022-01-31 Cloud cover: 0.18\n",
      "Image # 2 2022-02-16 Cloud cover: 0.36\n",
      "Image # 3 2022-03-04 Cloud cover: 13.15\n",
      "Image # 4 2022-03-20 Cloud cover: 69.23\n",
      "Image # 5 2022-04-05 Cloud cover: 0.52\n",
      "Image # 6 2022-05-07 Cloud cover: 28.8\n",
      "Image # 7 2022-05-23 Cloud cover: 98.64\n",
      "Image # 8 2022-06-08 Cloud cover: 45.59\n",
      "Image # 9 2022-06-24 Cloud cover: 65.66\n",
      "Image # 10 2022-07-26 Cloud cover: 76.08\n",
      "Image # 11 2022-08-11 Cloud cover: 16.98\n",
      "Image # 12 2022-08-27 Cloud cover: 10.17\n",
      "Image # 13 2022-09-12 Cloud cover: 10.68\n",
      "Image # 14 2022-09-28 Cloud cover: 29.4\n",
      "Image # 15 2022-10-14 Cloud cover: 3.07\n",
      "Image # 16 2022-10-30 Cloud cover: 26.33\n",
      "Image # 17 2022-11-15 Cloud cover: 5.38\n",
      "Image # 18 2022-12-01 Cloud cover: 1.96\n",
      "Image # 19 2022-12-17 Cloud cover: 28.98\n",
      "Image # 20 2023-01-02 Cloud cover: 1.83\n",
      "Image # 21 2023-01-18 Cloud cover: 6.48\n",
      "Image # 22 2023-02-03 Cloud cover: 5.47\n",
      "Image # 23 2023-02-19 Cloud cover: 3.87\n",
      "Image # 24 2023-03-07 Cloud cover: 14.23\n",
      "Image # 25 2023-03-23 Cloud cover: 0.8\n",
      "Image # 26 2023-04-08 Cloud cover: 2.86\n",
      "Image # 27 2023-04-24 Cloud cover: 41.32\n",
      "Image # 28 2023-05-10 Cloud cover: 77.5\n",
      "Image # 29 2023-05-26 Cloud cover: 51.66\n"
     ]
    }
   ],
   "source": [
    "# create an empty data container\n",
    "data = []\n",
    "\n",
    "# loop through each image and display it\n",
    "for i in range(landsat.size().getInfo()):\n",
    "\n",
    "    # when was this image taken?\n",
    "    date = ee.Image(landsat_list.get(i)).get('DATE_ACQUIRED').getInfo()\n",
    "    \n",
    "    # cloud cover\n",
    "    cloud = ee.Image(landsat_list.get(i)).get('CLOUD_COVER').getInfo()\n",
    "    \n",
    "    ndwi = ee.Image(sentinel_list.get(i)).normalizedDifference(['B3', 'B8'])\n",
    "    \n",
    "    ndwi = ee.Image(landsat_list.get(i)).normalizedDifference(['SR_B5', 'SR_B4'])\n",
    "    # print the image info\n",
    "    print('Image #',i,date,'Cloud cover:',cloud)\n",
    "    \n",
    "    # display the image\n",
    "    #display(Image(url = ee.Image(landsat_list.get(i)).getThumbUrl(parameters)))\n",
    "\n",
    "    # data to list\n",
    "    this_data = [i,date,cloud]\n",
    "\n",
    "    # append the data \n",
    "    data.append(this_data)\n",
    "    \n",
    "\n",
    "# Create the pandas DataFrame\n",
    "df = pd.DataFrame(data, columns = ['Image #', 'Date', 'Cloud Cover'])"
   ]
  },
  {
   "cell_type": "code",
   "execution_count": 486,
   "id": "5fbb8376",
   "metadata": {},
   "outputs": [
    {
     "data": {
      "text/html": [
       "<div>\n",
       "<style scoped>\n",
       "    .dataframe tbody tr th:only-of-type {\n",
       "        vertical-align: middle;\n",
       "    }\n",
       "\n",
       "    .dataframe tbody tr th {\n",
       "        vertical-align: top;\n",
       "    }\n",
       "\n",
       "    .dataframe thead th {\n",
       "        text-align: right;\n",
       "    }\n",
       "</style>\n",
       "<table border=\"1\" class=\"dataframe\">\n",
       "  <thead>\n",
       "    <tr style=\"text-align: right;\">\n",
       "      <th></th>\n",
       "      <th>Image #</th>\n",
       "      <th>Date</th>\n",
       "      <th>Cloud Cover</th>\n",
       "    </tr>\n",
       "  </thead>\n",
       "  <tbody>\n",
       "    <tr>\n",
       "      <th>0</th>\n",
       "      <td>0</td>\n",
       "      <td>2022-01-15</td>\n",
       "      <td>15.15</td>\n",
       "    </tr>\n",
       "    <tr>\n",
       "      <th>1</th>\n",
       "      <td>1</td>\n",
       "      <td>2022-01-31</td>\n",
       "      <td>0.18</td>\n",
       "    </tr>\n",
       "    <tr>\n",
       "      <th>2</th>\n",
       "      <td>2</td>\n",
       "      <td>2022-02-16</td>\n",
       "      <td>0.36</td>\n",
       "    </tr>\n",
       "    <tr>\n",
       "      <th>3</th>\n",
       "      <td>3</td>\n",
       "      <td>2022-03-04</td>\n",
       "      <td>13.15</td>\n",
       "    </tr>\n",
       "    <tr>\n",
       "      <th>4</th>\n",
       "      <td>4</td>\n",
       "      <td>2022-03-20</td>\n",
       "      <td>69.23</td>\n",
       "    </tr>\n",
       "    <tr>\n",
       "      <th>5</th>\n",
       "      <td>5</td>\n",
       "      <td>2022-04-05</td>\n",
       "      <td>0.52</td>\n",
       "    </tr>\n",
       "    <tr>\n",
       "      <th>6</th>\n",
       "      <td>6</td>\n",
       "      <td>2022-05-07</td>\n",
       "      <td>28.80</td>\n",
       "    </tr>\n",
       "    <tr>\n",
       "      <th>7</th>\n",
       "      <td>7</td>\n",
       "      <td>2022-05-23</td>\n",
       "      <td>98.64</td>\n",
       "    </tr>\n",
       "    <tr>\n",
       "      <th>8</th>\n",
       "      <td>8</td>\n",
       "      <td>2022-06-08</td>\n",
       "      <td>45.59</td>\n",
       "    </tr>\n",
       "    <tr>\n",
       "      <th>9</th>\n",
       "      <td>9</td>\n",
       "      <td>2022-06-24</td>\n",
       "      <td>65.66</td>\n",
       "    </tr>\n",
       "    <tr>\n",
       "      <th>10</th>\n",
       "      <td>10</td>\n",
       "      <td>2022-07-26</td>\n",
       "      <td>76.08</td>\n",
       "    </tr>\n",
       "    <tr>\n",
       "      <th>11</th>\n",
       "      <td>11</td>\n",
       "      <td>2022-08-11</td>\n",
       "      <td>16.98</td>\n",
       "    </tr>\n",
       "    <tr>\n",
       "      <th>12</th>\n",
       "      <td>12</td>\n",
       "      <td>2022-08-27</td>\n",
       "      <td>10.17</td>\n",
       "    </tr>\n",
       "    <tr>\n",
       "      <th>13</th>\n",
       "      <td>13</td>\n",
       "      <td>2022-09-12</td>\n",
       "      <td>10.68</td>\n",
       "    </tr>\n",
       "    <tr>\n",
       "      <th>14</th>\n",
       "      <td>14</td>\n",
       "      <td>2022-09-28</td>\n",
       "      <td>29.40</td>\n",
       "    </tr>\n",
       "    <tr>\n",
       "      <th>15</th>\n",
       "      <td>15</td>\n",
       "      <td>2022-10-14</td>\n",
       "      <td>3.07</td>\n",
       "    </tr>\n",
       "    <tr>\n",
       "      <th>16</th>\n",
       "      <td>16</td>\n",
       "      <td>2022-10-30</td>\n",
       "      <td>26.33</td>\n",
       "    </tr>\n",
       "    <tr>\n",
       "      <th>17</th>\n",
       "      <td>17</td>\n",
       "      <td>2022-11-15</td>\n",
       "      <td>5.38</td>\n",
       "    </tr>\n",
       "    <tr>\n",
       "      <th>18</th>\n",
       "      <td>18</td>\n",
       "      <td>2022-12-01</td>\n",
       "      <td>1.96</td>\n",
       "    </tr>\n",
       "    <tr>\n",
       "      <th>19</th>\n",
       "      <td>19</td>\n",
       "      <td>2022-12-17</td>\n",
       "      <td>28.98</td>\n",
       "    </tr>\n",
       "    <tr>\n",
       "      <th>20</th>\n",
       "      <td>20</td>\n",
       "      <td>2023-01-02</td>\n",
       "      <td>1.83</td>\n",
       "    </tr>\n",
       "    <tr>\n",
       "      <th>21</th>\n",
       "      <td>21</td>\n",
       "      <td>2023-01-18</td>\n",
       "      <td>6.48</td>\n",
       "    </tr>\n",
       "    <tr>\n",
       "      <th>22</th>\n",
       "      <td>22</td>\n",
       "      <td>2023-02-03</td>\n",
       "      <td>5.47</td>\n",
       "    </tr>\n",
       "    <tr>\n",
       "      <th>23</th>\n",
       "      <td>23</td>\n",
       "      <td>2023-02-19</td>\n",
       "      <td>3.87</td>\n",
       "    </tr>\n",
       "    <tr>\n",
       "      <th>24</th>\n",
       "      <td>24</td>\n",
       "      <td>2023-03-07</td>\n",
       "      <td>14.23</td>\n",
       "    </tr>\n",
       "    <tr>\n",
       "      <th>25</th>\n",
       "      <td>25</td>\n",
       "      <td>2023-03-23</td>\n",
       "      <td>0.80</td>\n",
       "    </tr>\n",
       "    <tr>\n",
       "      <th>26</th>\n",
       "      <td>26</td>\n",
       "      <td>2023-04-08</td>\n",
       "      <td>2.86</td>\n",
       "    </tr>\n",
       "    <tr>\n",
       "      <th>27</th>\n",
       "      <td>27</td>\n",
       "      <td>2023-04-24</td>\n",
       "      <td>41.32</td>\n",
       "    </tr>\n",
       "    <tr>\n",
       "      <th>28</th>\n",
       "      <td>28</td>\n",
       "      <td>2023-05-10</td>\n",
       "      <td>77.50</td>\n",
       "    </tr>\n",
       "    <tr>\n",
       "      <th>29</th>\n",
       "      <td>29</td>\n",
       "      <td>2023-05-26</td>\n",
       "      <td>51.66</td>\n",
       "    </tr>\n",
       "  </tbody>\n",
       "</table>\n",
       "</div>"
      ],
      "text/plain": [
       "    Image #        Date  Cloud Cover\n",
       "0         0  2022-01-15        15.15\n",
       "1         1  2022-01-31         0.18\n",
       "2         2  2022-02-16         0.36\n",
       "3         3  2022-03-04        13.15\n",
       "4         4  2022-03-20        69.23\n",
       "5         5  2022-04-05         0.52\n",
       "6         6  2022-05-07        28.80\n",
       "7         7  2022-05-23        98.64\n",
       "8         8  2022-06-08        45.59\n",
       "9         9  2022-06-24        65.66\n",
       "10       10  2022-07-26        76.08\n",
       "11       11  2022-08-11        16.98\n",
       "12       12  2022-08-27        10.17\n",
       "13       13  2022-09-12        10.68\n",
       "14       14  2022-09-28        29.40\n",
       "15       15  2022-10-14         3.07\n",
       "16       16  2022-10-30        26.33\n",
       "17       17  2022-11-15         5.38\n",
       "18       18  2022-12-01         1.96\n",
       "19       19  2022-12-17        28.98\n",
       "20       20  2023-01-02         1.83\n",
       "21       21  2023-01-18         6.48\n",
       "22       22  2023-02-03         5.47\n",
       "23       23  2023-02-19         3.87\n",
       "24       24  2023-03-07        14.23\n",
       "25       25  2023-03-23         0.80\n",
       "26       26  2023-04-08         2.86\n",
       "27       27  2023-04-24        41.32\n",
       "28       28  2023-05-10        77.50\n",
       "29       29  2023-05-26        51.66"
      ]
     },
     "execution_count": 486,
     "metadata": {},
     "output_type": "execute_result"
    }
   ],
   "source": [
    "df"
   ]
  },
  {
   "cell_type": "code",
   "execution_count": 533,
   "id": "292f1ac5",
   "metadata": {},
   "outputs": [
    {
     "data": {
      "text/plain": [
       "(array([12.,  6.,  4.,  0.,  2.,  1.,  1.,  3.,  0.,  1.]),\n",
       " array([ 0.18 , 10.026, 19.872, 29.718, 39.564, 49.41 , 59.256, 69.102,\n",
       "        78.948, 88.794, 98.64 ]),\n",
       " <BarContainer object of 10 artists>)"
      ]
     },
     "execution_count": 533,
     "metadata": {},
     "output_type": "execute_result"
    },
    {
     "data": {
      "image/png": "[encoded data removed]",
      "text/plain": [
       "<Figure size 640x480 with 1 Axes>"
      ]
     },
     "metadata": {},
     "output_type": "display_data"
    }
   ],
   "source": [
    "plt.hist(df[\"Cloud Cover\"])"
   ]
  },
  {
   "cell_type": "code",
   "execution_count": null,
   "id": "8aec4322",
   "metadata": {},
   "outputs": [],
   "source": []
  },
  {
   "cell_type": "code",
   "execution_count": 534,
   "id": "aeb40b73",
   "metadata": {},
   "outputs": [],
   "source": [
    "parameters = {\n",
    "                'min': 6000,\n",
    "                'max': 16000,\n",
    "                'dimensions': 800,\n",
    "                'bands': ['SR_B4', 'SR_B3', 'SR_B2'],\n",
    "                'region':roi\n",
    "             }"
   ]
  },
  {
   "cell_type": "code",
   "execution_count": 535,
   "id": "26e11838",
   "metadata": {
    "scrolled": false
   },
   "outputs": [
    {
     "name": "stdout",
     "output_type": "stream",
     "text": [
      "Image # 0 2022-01-15\n"
     ]
    },
    {
     "data": {
      "text/html": [
       "<img src=\"https://earthengine.googleapis.com/v1alpha/projects/earthengine-legacy/thumbnails/9bba4059ac21dc5367d0428bbb9af7a5-4e2387e22aa2d35c19b0fda3136c798c:getPixels\"/>"
      ],
      "text/plain": [
       "<IPython.core.display.Image object>"
      ]
     },
     "metadata": {},
     "output_type": "display_data"
    },
    {
     "name": "stdout",
     "output_type": "stream",
     "text": [
      "Image # 1 2022-01-31\n"
     ]
    },
    {
     "data": {
      "text/html": [
       "<img src=\"https://earthengine.googleapis.com/v1alpha/projects/earthengine-legacy/thumbnails/32699b0a2d4adf9f5be0912f6261323e-90f483b7250024016018df2398e5b555:getPixels\"/>"
      ],
      "text/plain": [
       "<IPython.core.display.Image object>"
      ]
     },
     "metadata": {},
     "output_type": "display_data"
    },
    {
     "name": "stdout",
     "output_type": "stream",
     "text": [
      "Image # 2 2022-02-16\n"
     ]
    },
    {
     "data": {
      "text/html": [
       "<img src=\"https://earthengine.googleapis.com/v1alpha/projects/earthengine-legacy/thumbnails/0b5884ab6d55ca56d1814e38e3f91203-bd91da75ac7654f5c94fb9e4cb7aa5fe:getPixels\"/>"
      ],
      "text/plain": [
       "<IPython.core.display.Image object>"
      ]
     },
     "metadata": {},
     "output_type": "display_data"
    },
    {
     "name": "stdout",
     "output_type": "stream",
     "text": [
      "Image # 3 2022-03-04\n"
     ]
    },
    {
     "data": {
      "text/html": [
       "<img src=\"https://earthengine.googleapis.com/v1alpha/projects/earthengine-legacy/thumbnails/46cc978989a8eed1ca8277f2b71f2de5-a0f263d025432c518cc5202a3a2b5be8:getPixels\"/>"
      ],
      "text/plain": [
       "<IPython.core.display.Image object>"
      ]
     },
     "metadata": {},
     "output_type": "display_data"
    },
    {
     "name": "stdout",
     "output_type": "stream",
     "text": [
      "Image # 4 2022-03-20\n"
     ]
    },
    {
     "data": {
      "text/html": [
       "<img src=\"https://earthengine.googleapis.com/v1alpha/projects/earthengine-legacy/thumbnails/6b7d4d0032235b0869b6f1d516e2252d-3ef4234f8d14bfccea715ad58b05b22c:getPixels\"/>"
      ],
      "text/plain": [
       "<IPython.core.display.Image object>"
      ]
     },
     "metadata": {},
     "output_type": "display_data"
    },
    {
     "name": "stdout",
     "output_type": "stream",
     "text": [
      "Image # 5 2022-04-05\n"
     ]
    },
    {
     "data": {
      "text/html": [
       "<img src=\"https://earthengine.googleapis.com/v1alpha/projects/earthengine-legacy/thumbnails/99037bb0b8bdb886b00d3e9dc14805bd-f3aea83334b26e3f4a07a9820a5a497a:getPixels\"/>"
      ],
      "text/plain": [
       "<IPython.core.display.Image object>"
      ]
     },
     "metadata": {},
     "output_type": "display_data"
    }
   ],
   "source": [
    "for i in range(0,6): #landsat.size().getInfo()):\n",
    "\n",
    "    # when was this image taken?\n",
    "    date = ee.Image(landsat_list.get(i)).get('DATE_ACQUIRED').getInfo()\n",
    "    \n",
    "    # print some information\n",
    "    print('Image #',i,date)\n",
    "    \n",
    "    # display the image\n",
    "    display(Image(url=ee.Image(landsat_list.get(i)).normalizedDifference(['SR_B5', 'SR_B4']).getThumbUrl(ndvi_parameters)))\n",
    "\n"
   ]
  },
  {
   "cell_type": "code",
   "execution_count": null,
   "id": "9bf65915",
   "metadata": {},
   "outputs": [],
   "source": []
  },
  {
   "cell_type": "code",
   "execution_count": null,
   "id": "0bd5c651",
   "metadata": {},
   "outputs": [],
   "source": []
  },
  {
   "cell_type": "code",
   "execution_count": null,
   "id": "0e175185",
   "metadata": {},
   "outputs": [],
   "source": []
  },
  {
   "cell_type": "code",
   "execution_count": null,
   "id": "1ef71ae5",
   "metadata": {},
   "outputs": [],
   "source": []
  },
  {
   "cell_type": "markdown",
   "id": "c8dea0f1",
   "metadata": {},
   "source": [
    "## Podemos extraer directamente la información de un punto de interés"
   ]
  },
  {
   "cell_type": "code",
   "execution_count": 496,
   "id": "c8a7fed1",
   "metadata": {},
   "outputs": [],
   "source": [
    "info = landsat.getRegion(point,800).getInfo()"
   ]
  },
  {
   "cell_type": "code",
   "execution_count": 497,
   "id": "4306852e",
   "metadata": {},
   "outputs": [
    {
     "name": "stdout",
     "output_type": "stream",
     "text": [
      "[['id', 'longitude', 'latitude', 'time', 'SR_B1', 'SR_B2', 'SR_B3', 'SR_B4', 'SR_B5', 'SR_B6', 'SR_B7', 'SR_QA_AEROSOL', 'ST_B10', 'ST_ATRAN', 'ST_CDIST', 'ST_DRAD', 'ST_EMIS', 'ST_EMSD', 'ST_QA', 'ST_TRAD', 'ST_URAD', 'QA_PIXEL', 'QA_RADSAT'], ['LC08_233084_20220115', -70.99206027339754, -34.58513843860158, 1642257257696, 9875, 10548, 11819, 12585, 15572, 15901, 14878, 96, 47416, 7687, 1432, 879, 9694, 79, 192, 10226, 1810, 21824, 0], ['LC08_233084_20220131', -70.99206027339754, -34.58513843860158, 1643639652769, 10064, 10747, 11984, 12838, 15255, 16116, 15314, 96, 47061, 8519, 1205, 573, 9676, 85, 201, 10275, 1127, 21824, 0], ['LC08_233084_20220216', -70.99206027339754, -34.58513843860158, 1645022048213, 9913, 10473, 11610, 12456, 15387, 15737, 14805, 96, 45701, 8991, 630, 425, 9709, 77, 216, 9874, 808, 21824, 0], ['LC08_233084_20220304', -70.99206027339754, -34.58513843860158, 1646404445018, 9832, 10403, 11532, 12301, 15118, 15415, 14382, 160, 46135, 7186, 1434, 1025, 9707, 77, 204, 9557, 2146, 21824, 0], ['LC08_233084_20220320', -70.99206027339754, -34.58513843860158, 1647786836785, 21215, 21206, 21620, 22292, 26115, 22380, 19577, 224, 32978, 9003, 0, 367, 9706, 78, 687, 5074, 672, 55052, 0], ['LC08_233084_20220405', -70.99206027339754, -34.58513843860158, 1649169230581, 9730, 10231, 11268, 12088, 14665, 15105, 14370, 96, 43788, 9296, 320, 284, 9709, 77, 213, 9029, 515, 21824, 0], ['LC08_233084_20220507', -70.99206027339754, -34.58513843860158, 1651934036533, 25628, 26353, 26309, 27312, 28504, 25497, 22536, 224, 38933, 9158, 0, 330, 9702, 77, 618, 7067, 622, 22280, 0], ['LC08_233084_20220523', -70.99206027339754, -34.58513843860158, 1653316440881, 46734, 46285, 44212, 43339, 40990, 20452, 20616, 224, 16474, 7030, 0, 912, 9760, 77, 1258, 2771, 1898, 55052, 0], ['LC08_233084_20220608', -70.99206027339754, -34.58513843860158, 1654698850481, 10319, 10941, 12914, 13496, 16455, 16581, 15684, 224, 37359, 8214, 1, 608, 9676, 85, 632, 6479, 1209, 54852, 0], ['LC08_233084_20220624', -70.99206027339754, -34.58513843860158, 1656081258359, 36866, 36639, 35615, 35273, 35398, 21082, 20777, 224, 25029, 8118, 0, 608, 9694, 79, 829, 3408, 1195, 55052, 0], ['LC08_233084_20220726', -70.99206027339754, -34.58513843860158, 1658846066535, 9805, 10310, 11361, 11913, 14500, 15365, 14537, 160, 39515, 7945, 58, 668, 9709, 77, 376, 7130, 1338, 21824, 0], ['LC08_233084_20220811', -70.99206027339754, -34.58513843860158, 1660228474899, 9714, 10388, 11736, 12332, 14344, 15285, 14629, 224, 39094, 9179, 3, 295, 9694, 79, 605, 7060, 545, 23888, 0], ['LC08_233084_20220827', -70.99206027339754, -34.58513843860158, 1661610876702, 10025, 10703, 12292, 12831, 15237, 16146, 15497, 224, 39819, 9127, 11, 328, 9702, 77, 563, 7359, 604, 22080, 0], ['LC08_233084_20220912', -70.99206027339754, -34.58513843860158, 1662993281529, 10010, 10563, 11605, 12251, 14023, 15296, 14889, 96, 42056, 8762, 144, 435, 9676, 85, 309, 8141, 830, 21824, 0], ['LC08_233084_20220928', -70.99206027339754, -34.58513843860158, 1664375683198, 9715, 10285, 11409, 11983, 14569, 15201, 14588, 96, 43448, 8667, 1263, 491, 9702, 77, 196, 8748, 949, 21824, 0], ['LC08_233084_20221014', -70.99206027339754, -34.58513843860158, 1665758074626, 9867, 10390, 11514, 12152, 15254, 15628, 14923, 96, 44162, 9093, 68, 345, 9706, 78, 351, 9126, 639, 21824, 0], ['LC08_233084_20221030', -70.99206027339754, -34.58513843860158, 1667140483082, 10094, 10612, 11770, 12450, 15746, 15971, 15138, 96, 43597, 8917, 70, 379, 9709, 77, 353, 8794, 705, 21824, 0], ['LC08_233084_20221115', -70.99206027339754, -34.58513843860158, 1668522877031, 9973, 10572, 11745, 12390, 15560, 15703, 14905, 96, 47126, 8234, 1422, 675, 9702, 77, 191, 10220, 1327, 21824, 0], ['LC08_233084_20221201', -70.99206027339754, -34.58513843860158, 1669905278328, 10055, 10647, 11850, 12632, 16040, 16248, 15203, 160, 47086, 8479, 1281, 591, 9706, 78, 196, 10299, 1156, 21824, 0], ['LC08_233084_20221217', -70.99206027339754, -34.58513843860158, 1671287671715, 10209, 10874, 12135, 12915, 15741, 16344, 15485, 160, 47431, 7956, 1126, 764, 9683, 83, 203, 10252, 1547, 21824, 0], ['LC08_233084_20230102', -70.99206027339754, -34.58513843860158, 1672670069571, 10007, 10609, 11785, 12503, 15617, 15963, 15006, 160, 47142, 8632, 1428, 535, 9702, 77, 191, 10361, 1034, 21824, 0], ['LC08_233084_20230118', -70.99206027339754, -34.58513843860158, 1674052461556, 10049, 10659, 11856, 12689, 15732, 16208, 15264, 96, 47516, 8618, 1424, 557, 9709, 77, 191, 10581, 1096, 21824, 0], ['LC08_233084_20230203', -70.99206027339754, -34.58513843860158, 1675434867323, 9847, 10476, 11662, 12410, 15276, 15633, 14685, 160, 47491, 7792, 1428, 890, 9702, 77, 189, 10411, 1843, 21824, 0], ['LC08_233084_20230219', -70.99206027339754, -34.58513843860158, 1676817255540, 9841, 10430, 11573, 12337, 15113, 15496, 14600, 96, 47397, 8215, 1425, 696, 9702, 77, 190, 10374, 1386, 21824, 0], ['LC08_233084_20230307', -70.99206027339754, -34.58513843860158, 1678199643939, 9818, 10387, 11493, 12244, 14834, 15296, 14407, 96, 46474, 7953, 3104, 784, 9694, 79, 154, 9900, 1578, 21824, 0], ['LC08_233084_20230323', -70.99206027339754, -34.58513843860158, 1679582034471, 9872, 10400, 11478, 12325, 14923, 15495, 14689, 96, 45491, 8829, 1202, 474, 9709, 77, 199, 9732, 920, 21824, 0], ['LC08_233084_20230408', -70.99206027339754, -34.58513843860158, 1680964421629, 9712, 10277, 11364, 12188, 14332, 15101, 14547, 96, 44318, 9288, 448, 285, 9683, 83, 216, 9227, 511, 21824, 0], ['LC08_233084_20230424', -70.99206027339754, -34.58513843860158, 1682346815536, 9673, 10167, 11246, 12012, 14555, 14890, 14139, 160, 42242, 8014, 123, 724, 9706, 78, 321, 8257, 1477, 21824, 0], ['LC08_233084_20230510', -70.99206027339754, -34.58513843860158, 1683729204000, 9666, 10518, 11985, 12601, 15322, 14583, 13725, 224, 36286, 8263, 0, 608, 9707, 77, 646, 6171, 1187, 55052, 0], ['LC08_233084_20230526', -70.99206027339754, -34.58513843860158, 1685111603133, 10217, 10858, 13360, 13835, 20818, 18152, 16539, 224, 30644, 8236, 0, 587, 9683, 83, 722, 4586, 1157, 55052, 0]]\n"
     ]
    }
   ],
   "source": [
    "print(info)"
   ]
  },
  {
   "cell_type": "code",
   "execution_count": 539,
   "id": "40959c88",
   "metadata": {},
   "outputs": [
    {
     "name": "stdout",
     "output_type": "stream",
     "text": [
      "['id', 'longitude', 'latitude', 'time', 'SR_B1', 'SR_B2', 'SR_B3', 'SR_B4', 'SR_B5', 'SR_B6', 'SR_B7', 'SR_QA_AEROSOL', 'ST_B10', 'ST_ATRAN', 'ST_CDIST', 'ST_DRAD', 'ST_EMIS', 'ST_EMSD', 'ST_QA', 'ST_TRAD', 'ST_URAD', 'QA_PIXEL', 'QA_RADSAT']\n"
     ]
    }
   ],
   "source": [
    "# extract the header column names\n",
    "header = info[0]\n",
    "\n",
    "print(info[0])"
   ]
  },
  {
   "cell_type": "code",
   "execution_count": 540,
   "id": "21b69e77",
   "metadata": {},
   "outputs": [],
   "source": [
    "# create a Numpy array of the data\n",
    "data = array(info[1:])"
   ]
  },
  {
   "cell_type": "code",
   "execution_count": 541,
   "id": "730fdc12",
   "metadata": {},
   "outputs": [
    {
     "name": "stdout",
     "output_type": "stream",
     "text": [
      "[['LC08_232084_20130402' '-70.98711953933488' '-34.58289265039128' ...\n",
      "  '1270' '21824' '0']\n",
      " ['LC08_233084_20130412' '-70.98711953933488' '-34.58289265039128' ...\n",
      "  '502' '21824' '0']\n",
      " ['LC08_233084_20130428' '-70.98711953933488' '-34.58289265039128' ...\n",
      "  '671' '55052' '0']\n",
      " ...\n",
      " ['LC08_233084_20221217' '-70.98711953933488' '-34.58289265039128' ...\n",
      "  '1547' '21824' '0']\n",
      " ['LC08_233084_20230102' '-70.98711953933488' '-34.58289265039128' ...\n",
      "  '1033' '21824' '0']\n",
      " ['LC08_233084_20230118' '-70.98711953933488' '-34.58289265039128' ...\n",
      "  '1094' '21824' '0']]\n"
     ]
    }
   ],
   "source": [
    "print(data)"
   ]
  },
  {
   "cell_type": "code",
   "execution_count": 542,
   "id": "dea92bd4",
   "metadata": {},
   "outputs": [],
   "source": [
    "xBand = 'time'\n",
    "yBandList = ['SR_B1',\n",
    "             'SR_B2',\n",
    "             'SR_B3',\n",
    "             'SR_B4',\n",
    "             'SR_B5',\n",
    "             'SR_B6',\n",
    "             'SR_B7',\n",
    "             'SR_QA_AEROSOL',\n",
    "             'ST_B10',\n",
    "             'ST_ATRAN',\n",
    "             'ST_CDIST',\n",
    "             'ST_DRAD',\n",
    "             'ST_EMIS',\n",
    "             'ST_EMSD',\n",
    "             'ST_QA',\n",
    "             'ST_TRAD',\n",
    "             'ST_URAD',\n",
    "             'QA_PIXEL',\n",
    "             'QA_RADSAT']"
   ]
  },
  {
   "cell_type": "code",
   "execution_count": 543,
   "id": "5ddee47e",
   "metadata": {},
   "outputs": [],
   "source": [
    "iBands = [header.index(b) for b in yBandList]\n",
    "yData = data[0:,iBands].astype(np.float)"
   ]
  },
  {
   "cell_type": "code",
   "execution_count": 504,
   "id": "46fdfb01",
   "metadata": {},
   "outputs": [],
   "source": [
    "band3 = yData[:,2]\n",
    "band4 = yData[:,3]\n",
    "ndvi = (band4 - band3) / (band4 + band3)"
   ]
  },
  {
   "cell_type": "code",
   "execution_count": 544,
   "id": "a7733668",
   "metadata": {},
   "outputs": [],
   "source": [
    "# extract the time information\n",
    "iTime = header.index('time')\n",
    "# convert to Python datetime objects\n",
    "time = [datetime.datetime.fromtimestamp(i/1000) for i in (data[0:,iTime].astype(int))]"
   ]
  },
  {
   "cell_type": "code",
   "execution_count": 545,
   "id": "d4808444",
   "metadata": {},
   "outputs": [
    {
     "data": {
      "image/png": "[encoded data removed]",
      "text/plain": [
       "<Figure size 960x640 with 2 Axes>"
      ]
     },
     "metadata": {},
     "output_type": "display_data"
    }
   ],
   "source": [
    "# matplotlib date format object\n",
    "\n",
    "fig = figure(figsize=(12,8), dpi=80)\n",
    "\n",
    "# plot the band values\n",
    "ax1 = fig.add_subplot(211)\n",
    "ax1.plot(time, yData[:,2], 'o', color=\"red\", label=\"Band 3\")\n",
    "ax1.plot(time, yData[:,3], 'o', color=\"magenta\",  label=\"Band 4\")\n",
    "ax1.legend(loc='best')\n",
    "ax1.grid(True)\n",
    "\n",
    "#plt.title('Band values as a function of time')\n",
    "ax1.set_ylabel('Band Values')\n",
    "\n",
    "# plot NDVI\n",
    "ax2 = fig.add_subplot(212, sharex=ax1)\n",
    "ax2.plot(time, ndvi, 'o', color=\"black\", label=\"NDVI\")\n",
    "ax2.grid(True)\n",
    "start, end = ax2.get_xlim()\n",
    "ax2.xaxis.set_ticks(np.arange(start, end, 64.5))\n",
    "\n",
    "# Format the ticks.\n",
    "years    = mdates.YearLocator()   # every year\n",
    "months   = mdates.MonthLocator()  # every month\n",
    "yearsFmt = mdates.DateFormatter('%Y')\n",
    "\n",
    "ax2.set_ylabel('NDVI')\n",
    "\n",
    "ax2.xaxis.set_major_locator(years)\n",
    "ax2.xaxis.set_major_formatter(yearsFmt)\n",
    "ax2.xaxis.set_minor_locator(months)"
   ]
  },
  {
   "cell_type": "code",
   "execution_count": null,
   "id": "eb962456",
   "metadata": {},
   "outputs": [],
   "source": []
  },
  {
   "cell_type": "markdown",
   "id": "de4d433a",
   "metadata": {},
   "source": []
  },
  {
   "cell_type": "code",
   "execution_count": null,
   "id": "af1cece7",
   "metadata": {},
   "outputs": [],
   "source": []
  },
  {
   "cell_type": "code",
   "execution_count": 510,
   "id": "4c0036df",
   "metadata": {},
   "outputs": [],
   "source": [
    "import datetime\n",
    "from matplotlib import dates\n",
    "import matplotlib.dates as mdates\n",
    "from pylab import *"
   ]
  },
  {
   "cell_type": "code",
   "execution_count": 511,
   "id": "beba4b7c",
   "metadata": {},
   "outputs": [],
   "source": [
    "xBand = 'time'\n",
    "yBandList = [\n",
    "        'SR_B1',\n",
    "        u'SR_B2',\n",
    "        u'SR_B3',\n",
    "        u'SR_B4',\n",
    "        u'SR_B5',\n",
    "        u'SR_B6',\n",
    "        u'SR_B7',\n",
    "        u'SR_QA_AEROSOL',\n",
    "        u'ST_B10',\n",
    "    ]\n",
    "\n",
    "# start date of range to filter for\n",
    "start_date = '2000-12-01'\n",
    "\n",
    "# end date\n",
    "end_date = '2023-01-31'\n",
    "#startTime = datetime.datetime(2022, 1, 1)\n",
    "#endTime = datetime.datetime(2023, 1, 1)"
   ]
  },
  {
   "cell_type": "code",
   "execution_count": null,
   "id": "e6a8073a",
   "metadata": {},
   "outputs": [],
   "source": []
  },
  {
   "cell_type": "code",
   "execution_count": 512,
   "id": "abed1ca4",
   "metadata": {},
   "outputs": [],
   "source": [
    "landsat = ee.ImageCollection(\"LANDSAT/LC08/C02/T1_L2\")\\\n",
    "            .filterBounds(poi)\\\n",
    "            .filterDate(start_date,end_date)"
   ]
  },
  {
   "cell_type": "code",
   "execution_count": 513,
   "id": "a122242a",
   "metadata": {},
   "outputs": [],
   "source": [
    "collection = ee.ImageCollection('LANDSAT/LC08/C02/T1_L2').filterDate(start_date,end_date)\n",
    "#point = {'type':'Point', 'coordinates':[ -34.5858603,-70.9907801]};  # death valley (should be stable)\n",
    "\n",
    "# point of interest as an ee.Geometry\n",
    "point = ee.Geometry.Point(lon,lat)\n",
    "\n",
    "info = collection.getRegion(point,500).getInfo()"
   ]
  },
  {
   "cell_type": "code",
   "execution_count": 514,
   "id": "83aa685e",
   "metadata": {},
   "outputs": [
    {
     "data": {
      "text/html": [
       "<div><style>:root {\n",
       "  --font-color-primary: var(--jp-content-font-color0, rgba(0, 0, 0, 1));\n",
       "  --font-color-secondary: var(--jp-content-font-color2, rgba(0, 0, 0, 0.6));\n",
       "  --font-color-accent: rgba(123, 31, 162, 1);\n",
       "  --border-color: var(--jp-border-color2, #e0e0e0);\n",
       "  --background-color: var(--jp-layout-color0, white);\n",
       "  --background-color-row-even: var(--jp-layout-color1, white);\n",
       "  --background-color-row-odd: var(--jp-layout-color2, #eeeeee);\n",
       "}\n",
       "\n",
       "html[theme=\"dark\"],\n",
       "body[data-theme=\"dark\"],\n",
       "body.vscode-dark {\n",
       "  --font-color-primary: rgba(255, 255, 255, 1);\n",
       "  --font-color-secondary: rgba(255, 255, 255, 0.6);\n",
       "  --font-color-accent: rgb(173, 132, 190);\n",
       "  --border-color: #2e2e2e;\n",
       "  --background-color: #111111;\n",
       "  --background-color-row-even: #111111;\n",
       "  --background-color-row-odd: #313131;\n",
       "}\n",
       "\n",
       ".ee {\n",
       "  padding: 1em;\n",
       "  line-height: 1.5em;\n",
       "  min-width: 300px;\n",
       "  max-width: 1200px;\n",
       "  overflow-y: scroll;\n",
       "  max-height: 600px;\n",
       "  border: 1px solid var(--border-color);\n",
       "  font-family: monospace;\n",
       "}\n",
       "\n",
       ".ee li {\n",
       "  list-style-type: none;\n",
       "}\n",
       "\n",
       ".ee ul {\n",
       "  padding-left: 1.5em !important;\n",
       "  margin: 0;\n",
       "}\n",
       "\n",
       ".ee > ul {\n",
       "  padding-left: 0 !important;\n",
       "}\n",
       "\n",
       ".ee-open,\n",
       ".ee-shut {\n",
       "  color: var(--font-color-secondary);\n",
       "  cursor: pointer;\n",
       "  margin: 0;\n",
       "}\n",
       "\n",
       ".ee-open:hover,\n",
       ".ee-shut:hover {\n",
       "  color: var(--font-color-primary);\n",
       "}\n",
       "\n",
       ".ee-k {\n",
       "  color: var(--font-color-accent);\n",
       "  margin-right: 6px;\n",
       "}\n",
       "\n",
       ".ee-v {\n",
       "  color: var(--font-color-primary);\n",
       "}\n",
       "\n",
       ".ee-toggle {\n",
       "  display: none;\n",
       "}\n",
       "\n",
       ".ee-shut + ul {\n",
       "  display: none;\n",
       "}\n",
       "\n",
       ".ee-open + ul {\n",
       "  display: block;\n",
       "}\n",
       "\n",
       ".ee-shut::before {\n",
       "  display: inline-block;\n",
       "  content: \"▼\";\n",
       "  margin-right: 6px;\n",
       "  transform: rotate(-90deg);\n",
       "  transition: transform 0.2s;\n",
       "}\n",
       "\n",
       ".ee-open::before {\n",
       "  transform: rotate(0deg);\n",
       "  display: inline-block;\n",
       "  content: \"▼\";\n",
       "  margin-right: 6px;\n",
       "  transition: transform 0.2s;\n",
       "}\n",
       "</style><div class='ee'><ul><li><span class='ee-v'>1505206</span></li></ul></div><script>function toggleHeader() {\n",
       "    const parent = this.parentElement;\n",
       "    parent.className = parent.className === \"ee-open\" ? \"ee-shut\" : \"ee-open\";\n",
       "}\n",
       "\n",
       "for (let c of document.getElementsByClassName(\"ee-toggle\")) {\n",
       "    c.onclick = toggleHeader;\n",
       "}</script></div>"
      ],
      "text/plain": [
       "<ee.ee_number.Number at 0x11bcf0af0>"
      ]
     },
     "execution_count": 514,
     "metadata": {},
     "output_type": "execute_result"
    }
   ],
   "source": [
    "collection.size()"
   ]
  },
  {
   "cell_type": "code",
   "execution_count": 515,
   "id": "57a4c01c",
   "metadata": {},
   "outputs": [
    {
     "name": "stdout",
     "output_type": "stream",
     "text": [
      "Total number: 1505206\n"
     ]
    }
   ],
   "source": [
    "# how many images did we get?\n",
    "print('Total number:', collection.size().getInfo())"
   ]
  },
  {
   "cell_type": "code",
   "execution_count": null,
   "id": "12b0a0e7",
   "metadata": {},
   "outputs": [],
   "source": []
  },
  {
   "cell_type": "code",
   "execution_count": 516,
   "id": "fe5d21ef",
   "metadata": {},
   "outputs": [],
   "source": [
    "# extract the header column names\n",
    "header = info[0]\n",
    "# create a Numpy array of the data\n",
    "data = array(info[1:])"
   ]
  },
  {
   "cell_type": "code",
   "execution_count": 517,
   "id": "5ce3c923",
   "metadata": {},
   "outputs": [
    {
     "name": "stdout",
     "output_type": "stream",
     "text": [
      "['id', 'longitude', 'latitude', 'time', 'SR_B1', 'SR_B2', 'SR_B3', 'SR_B4', 'SR_B5', 'SR_B6', 'SR_B7', 'SR_QA_AEROSOL', 'ST_B10', 'ST_ATRAN', 'ST_CDIST', 'ST_DRAD', 'ST_EMIS', 'ST_EMSD', 'ST_QA', 'ST_TRAD', 'ST_URAD', 'QA_PIXEL', 'QA_RADSAT']\n"
     ]
    }
   ],
   "source": [
    "print(header)"
   ]
  },
  {
   "cell_type": "code",
   "execution_count": 518,
   "id": "9c19b416",
   "metadata": {},
   "outputs": [],
   "source": [
    "# extract the time information\n",
    "iTime = header.index('time')\n",
    "# convert to Python datetime objects\n",
    "time = [datetime.datetime.fromtimestamp(i/1000) for i in (data[0:,iTime].astype(int))]"
   ]
  },
  {
   "cell_type": "code",
   "execution_count": 519,
   "id": "7f931c4f",
   "metadata": {},
   "outputs": [],
   "source": [
    "iBands = [header.index(b) for b in yBandList]\n",
    "yData = data[0:,iBands].astype(np.float)"
   ]
  },
  {
   "cell_type": "markdown",
   "id": "00358821",
   "metadata": {},
   "source": [
    "## Hacemos el calculo del estadistico deseado, NDVI"
   ]
  },
  {
   "cell_type": "code",
   "execution_count": 520,
   "id": "df5808c1",
   "metadata": {},
   "outputs": [],
   "source": [
    "band3 = yData[:,2]\n",
    "band4 = yData[:,3]\n",
    "ndvi = (band4 - band3) / (band4 + band3)"
   ]
  },
  {
   "cell_type": "code",
   "execution_count": 521,
   "id": "db3812f2",
   "metadata": {},
   "outputs": [
    {
     "data": {
      "image/png": "[encoded data removed]",
      "text/plain": [
       "<Figure size 960x640 with 2 Axes>"
      ]
     },
     "metadata": {},
     "output_type": "display_data"
    }
   ],
   "source": [
    "# matplotlib date format object\n",
    "\n",
    "fig = figure(figsize=(12,8), dpi=80)\n",
    "\n",
    "# plot the band values\n",
    "ax1 = fig.add_subplot(211)\n",
    "ax1.plot(time, yData[:,2], 'o', color=\"red\", label=\"Band 3\")\n",
    "ax1.plot(time, yData[:,3], 'o', color=\"magenta\",  label=\"Band 4\")\n",
    "ax1.legend(loc='best')\n",
    "ax1.grid(True)\n",
    "\n",
    "#plt.title('Band values as a function of time')\n",
    "ax1.set_ylabel('Band Values')\n",
    "\n",
    "# plot NDVI\n",
    "ax2 = fig.add_subplot(212, sharex=ax1)\n",
    "ax2.plot(time, ndvi, 'o', color=\"black\", label=\"NDVI\")\n",
    "ax2.grid(True)\n",
    "start, end = ax2.get_xlim()\n",
    "ax2.xaxis.set_ticks(np.arange(start, end, 64.5))\n",
    "\n",
    "# Format the ticks.\n",
    "years    = mdates.YearLocator()   # every year\n",
    "months   = mdates.MonthLocator()  # every month\n",
    "yearsFmt = mdates.DateFormatter('%Y')\n",
    "\n",
    "ax2.set_ylabel('NDVI')\n",
    "\n",
    "ax2.xaxis.set_major_locator(years)\n",
    "ax2.xaxis.set_major_formatter(yearsFmt)\n",
    "ax2.xaxis.set_minor_locator(months)"
   ]
  },
  {
   "cell_type": "code",
   "execution_count": null,
   "id": "d7246696",
   "metadata": {},
   "outputs": [],
   "source": []
  },
  {
   "cell_type": "code",
   "execution_count": null,
   "id": "8d6a38a7",
   "metadata": {},
   "outputs": [],
   "source": []
  },
  {
   "cell_type": "code",
   "execution_count": null,
   "id": "fd1d68a9",
   "metadata": {},
   "outputs": [],
   "source": []
  },
  {
   "cell_type": "code",
   "execution_count": null,
   "id": "b9184f9f",
   "metadata": {},
   "outputs": [],
   "source": []
  },
  {
   "cell_type": "code",
   "execution_count": null,
   "id": "12854166",
   "metadata": {},
   "outputs": [],
   "source": []
  },
  {
   "cell_type": "code",
   "execution_count": null,
   "id": "ebe5ec7b",
   "metadata": {},
   "outputs": [],
   "source": [
    "https://github.com/yohman/remote-sensing-ndwi/blob/main/ndwi.ipynb"
   ]
  },
  {
   "cell_type": "code",
   "execution_count": null,
   "id": "5a8b8023",
   "metadata": {},
   "outputs": [],
   "source": []
  },
  {
   "cell_type": "code",
   "execution_count": 546,
   "id": "c2d919a9",
   "metadata": {},
   "outputs": [],
   "source": [
    "# coordinates \n",
    "lat =  -34.5858603\n",
    "lon = -70.9907801\n",
    "\n",
    "# point of interest as an ee.Geometry\n",
    "point = ee.Geometry.Point(lon,lat)\n",
    "\n",
    "# start date of range to filter for\n",
    "start_date = '2000-01-01'\n",
    "\n",
    "# end date\n",
    "end_date = '2023-05-31'"
   ]
  },
  {
   "cell_type": "code",
   "execution_count": null,
   "id": "031826c7",
   "metadata": {},
   "outputs": [],
   "source": []
  },
  {
   "cell_type": "code",
   "execution_count": 564,
   "id": "939ffddf",
   "metadata": {},
   "outputs": [],
   "source": [
    "# Define a region of interest with a buffer zone.\n",
    "roi = point.buffer(1500) # meters"
   ]
  },
  {
   "cell_type": "code",
   "execution_count": 565,
   "id": "5257fe76",
   "metadata": {},
   "outputs": [],
   "source": [
    "sentinel = ee.ImageCollection(\"COPERNICUS/S2_SR\")\\\n",
    "            .filterBounds(roi)\\\n",
    "            .filterDate(start_date,end_date)\\\n",
    "            .filter(ee.Filter.lt('CLOUDY_PIXEL_PERCENTAGE', 20))"
   ]
  },
  {
   "cell_type": "code",
   "execution_count": 566,
   "id": "8d56a09b",
   "metadata": {},
   "outputs": [
    {
     "name": "stdout",
     "output_type": "stream",
     "text": [
      "Total number: 179\n"
     ]
    }
   ],
   "source": [
    "# how many images did we get?\n",
    "print('Total number:', sentinel.size().getInfo())"
   ]
  },
  {
   "cell_type": "code",
   "execution_count": 567,
   "id": "f648d2a5",
   "metadata": {},
   "outputs": [],
   "source": [
    "# put the images in a list\n",
    "sentinel_list = sentinel.toList(sentinel.size());"
   ]
  },
  {
   "cell_type": "code",
   "execution_count": 586,
   "id": "199f55f7",
   "metadata": {},
   "outputs": [],
   "source": [
    "# set some parameters for image\n",
    "parameters = {\n",
    "                'min': 0,\n",
    "                'max': 2500,\n",
    "                'dimensions': 1000,\n",
    "                'bands': ['B4', 'B3', 'B2'],\n",
    "                'region':roi\n",
    "             }"
   ]
  },
  {
   "cell_type": "code",
   "execution_count": 587,
   "id": "e8285be7",
   "metadata": {},
   "outputs": [],
   "source": [
    "# work with dates\n",
    "from datetime import datetime as dt\n"
   ]
  },
  {
   "cell_type": "code",
   "execution_count": 588,
   "id": "36494270",
   "metadata": {
    "scrolled": false
   },
   "outputs": [
    {
     "name": "stdout",
     "output_type": "stream",
     "text": [
      "Image # 0 2018-12-15 14:52:27 Cloud cover: 3.871602\n"
     ]
    },
    {
     "data": {
      "text/html": [
       "<img src=\"https://earthengine.googleapis.com/v1alpha/projects/earthengine-legacy/thumbnails/6e07b87707d45f4fb76f71bb314b9303-ee1d7513b6810c3e9bb9cec31a850633:getPixels\"/>"
      ],
      "text/plain": [
       "<IPython.core.display.Image object>"
      ]
     },
     "metadata": {},
     "output_type": "display_data"
    },
    {
     "name": "stdout",
     "output_type": "stream",
     "text": [
      "Image # 1 2018-12-20 14:52:24 Cloud cover: 4.439361\n"
     ]
    },
    {
     "data": {
      "text/html": [
       "<img src=\"https://earthengine.googleapis.com/v1alpha/projects/earthengine-legacy/thumbnails/6cae89792a12e438ea1c0e34ece7cfdd-f0c9d8c93b95af03734cdaaf433c204f:getPixels\"/>"
      ],
      "text/plain": [
       "<IPython.core.display.Image object>"
      ]
     },
     "metadata": {},
     "output_type": "display_data"
    }
   ],
   "source": [
    "# loop through each image and display it\n",
    "for i in range(2):#sentinel.size().getInfo()):\n",
    "\n",
    "    # when was this image taken?\n",
    "    date = ee.Date(ee.Image(sentinel_list.get(i)).get('system:time_start'))\n",
    "    time = date.getInfo()['value']/1000\n",
    "    date = dt.utcfromtimestamp(time).strftime('%Y-%m-%d %H:%M:%S')\n",
    "    \n",
    "    # cloud cover\n",
    "    cloud = ee.Image(sentinel_list.get(i)).get('CLOUDY_PIXEL_PERCENTAGE').getInfo()\n",
    "    \n",
    "    print('Image #',i,date,'Cloud cover:',cloud)\n",
    "    \n",
    "    display(Image(url = ee.Image(sentinel_list.get(i)).getThumbUrl(parameters)))"
   ]
  },
  {
   "cell_type": "code",
   "execution_count": null,
   "id": "0adab8c5",
   "metadata": {},
   "outputs": [],
   "source": []
  },
  {
   "cell_type": "code",
   "execution_count": 589,
   "id": "8116f409",
   "metadata": {},
   "outputs": [],
   "source": [
    "# ndwi palette: red is low water, blue is high water\n",
    "palette = ['red', 'yellow', 'green', 'blue'];\n",
    "\n",
    "# notice, no bands here because we will calculate ndwi per image\n",
    "ndwi_parameters = {'min': -1,\n",
    "                   'max': 0.5,\n",
    "                   'dimensions': 1000,\n",
    "                   'palette': palette,\n",
    "                   'region': roi}"
   ]
  },
  {
   "cell_type": "code",
   "execution_count": 590,
   "id": "18203f02",
   "metadata": {
    "scrolled": false
   },
   "outputs": [
    {
     "name": "stdout",
     "output_type": "stream",
     "text": [
      "Image # 0 2018-12-15 14:52:27\n"
     ]
    },
    {
     "data": {
      "text/html": [
       "<img src=\"https://earthengine.googleapis.com/v1alpha/projects/earthengine-legacy/thumbnails/b3899d1cb6d3aa7e355a60a372401548-d5abf07dce3a8308ce5858652e6713aa:getPixels\"/>"
      ],
      "text/plain": [
       "<IPython.core.display.Image object>"
      ]
     },
     "metadata": {},
     "output_type": "display_data"
    },
    {
     "name": "stdout",
     "output_type": "stream",
     "text": [
      "Image # 1 2018-12-20 14:52:24\n"
     ]
    },
    {
     "data": {
      "text/html": [
       "<img src=\"https://earthengine.googleapis.com/v1alpha/projects/earthengine-legacy/thumbnails/22b126282f249b5e8fd44a9674305a8e-b41eeccea6600e5573e22ab58dd19ba5:getPixels\"/>"
      ],
      "text/plain": [
       "<IPython.core.display.Image object>"
      ]
     },
     "metadata": {},
     "output_type": "display_data"
    }
   ],
   "source": [
    "# loop through each image and display it\n",
    "for i in range(2):#sentinel.size().getInfo()):\n",
    "\n",
    "    # first, calculate ndwi for each image\n",
    "    ndwi = ee.Image(sentinel_list.get(i)).normalizedDifference(['B3', 'B8'])\n",
    "    \n",
    "    # when was this image taken?\n",
    "    date = ee.Date(ee.Image(sentinel_list.get(i)).get('system:time_start'))\n",
    "    time = date.getInfo()['value']/1000\n",
    "    date = dt.utcfromtimestamp(time).strftime('%Y-%m-%d %H:%M:%S')\n",
    "    \n",
    "    # print some information\n",
    "    print('Image #',i,date)\n",
    "    \n",
    "    # display the image\n",
    "    display(Image(url=ndwi.getThumbUrl(ndwi_parameters)))"
   ]
  },
  {
   "cell_type": "code",
   "execution_count": null,
   "id": "9316e745",
   "metadata": {},
   "outputs": [],
   "source": []
  },
  {
   "cell_type": "code",
   "execution_count": null,
   "id": "b7f8f462",
   "metadata": {},
   "outputs": [],
   "source": []
  },
  {
   "cell_type": "code",
   "execution_count": 574,
   "id": "76761433",
   "metadata": {},
   "outputs": [],
   "source": [
    "info = sentinel.getRegion(point,800).getInfo()"
   ]
  },
  {
   "cell_type": "code",
   "execution_count": 575,
   "id": "bbb0162b",
   "metadata": {},
   "outputs": [
    {
     "name": "stdout",
     "output_type": "stream",
     "text": [
      "[['id', 'longitude', 'latitude', 'time', 'B1', 'B2', 'B3', 'B4', 'B5', 'B6', 'B7', 'B8', 'B8A', 'B9', 'B11', 'B12', 'AOT', 'WVP', 'SCL', 'TCI_R', 'TCI_G', 'TCI_B', 'MSK_CLDPRB', 'MSK_SNWPRB', 'QA10', 'QA20', 'QA60'], ['20181215T143749_20181215T144702_T19HCB', -70.99206027339754, -34.58513843860158, 1544885547000, 1164, 1393, 1611, 1818, 2013, 2289, 2392, 2437, 2406, 2398, 2860, 2828, 80, 1168, 5, 173, 155, 136, 5, 0, 0, 0, 0], ['20181220T143741_20181220T144648_T19HCB', -70.99206027339754, -34.58513843860158, 1545317544000, 1224, 1389, 1633, 1839, 2048, 2326, 2414, 2467, 2445, 2429, 2828, 2727, 109, 1074, 5, 176, 157, 135, 6, 0, 0, 0, 0], ['20181225T143749_20181225T144653_T19HCB', -70.99206027339754, -34.58513843860158, 1545749549000, 1144, 1388, 1613, 1812, 2016, 2277, 2387, 2395, 2395, 2394, 2856, 2813, 126, 1594, 5, 173, 156, 136, 5, 0, 0, 0, 0], ['20181230T143751_20181230T144650_T19HCB', -70.99206027339754, -34.58513843860158, 1546181547000, 1176, 1359, 1616, 1825, 2018, 2285, 2375, 2457, 2408, 2386, 2785, 2687, 91, 807, 5, 174, 155, 133, 6, 0, 0, 0, 0], ['20190104T143749_20190104T144651_T19HCB', -70.99206027339754, -34.58513843860158, 1546613551000, 1114, 1362, 1593, 1805, 1977, 2233, 2335, 2417, 2352, 2327, 2800, 2749, 86, 806, 5, 174, 155, 134, 5, 0, 0, 0, 0], ['20190119T143751_20190119T144606_T19HCB', -70.99206027339754, -34.58513843860158, 1547909549000, 1178, 1348, 1605, 1803, 2006, 2249, 2335, 2373, 2361, 2361, 2725, 2627, 154, 1190, 5, 174, 157, 133, 6, 0, 0, 0, 0], ['20190124T143749_20190124T144523_T19HCB', -70.99206027339754, -34.58513843860158, 1548341553000, 1062, 1299, 1535, 1745, 1926, 2178, 2281, 2323, 2295, 2302, 2731, 2688, 131, 1242, 5, 170, 151, 130, 4, 0, 0, 0, 0], ['20190129T143751_20190129T144524_T19HCB', -70.99206027339754, -34.58513843860158, 1548773550000, 1122, 1295, 1555, 1766, 1963, 2186, 2266, 2303, 2296, 2298, 2683, 2586, 126, 1214, 5, 172, 152, 129, 5, 0, 0, 0, 0], ['20190203T143749_20190203T144957_T19HCB', -70.99206027339754, -34.58513843860158, 1549205553000, 1039, 1269, 1509, 1724, 1927, 2139, 2240, 2209, 2256, 2228, 2703, 2651, 177, 2262, 5, 168, 149, 126, 3, 0, 0, 0, 0], ['20190208T143751_20190208T144455_T19HCB', -70.99206027339754, -34.58513843860158, 1549637550000, 1068, 1215, 1412, 1556, 1720, 1980, 2092, 2145, 2133, 2030, 2166, 2013, 148, 972, 5, 158, 144, 124, 12, 0, 0, 0, 2048], ['20190213T143749_20190213T144127_T19HCB', -70.99206027339754, -34.58513843860158, 1550069553000, 1059, 1258, 1478, 1695, 1883, 2095, 2198, 2224, 2221, 2235, 2644, 2604, 114, 1290, 5, 166, 147, 126, 4, 0, 0, 0, 0], ['20190218T143751_20190218T144454_T19HCB', -70.99206027339754, -34.58513843860158, 1550501549000, 1141, 1247, 1494, 1695, 1913, 2115, 2207, 2195, 2238, 2253, 2611, 2491, 177, 1750, 5, 167, 149, 126, 3, 0, 0, 0, 0], ['20190223T143749_20190223T144359_T19HCB', -70.99206027339754, -34.58513843860158, 1550933552000, 1020, 1223, 1445, 1665, 1848, 2043, 2148, 2163, 2166, 2168, 2594, 2563, 109, 1290, 5, 164, 144, 123, 4, 0, 0, 0, 0], ['20190228T143751_20190228T144453_T19HCB', -70.99206027339754, -34.58513843860158, 1551365548733, 1129, 1261, 1516, 1727, 1927, 2158, 2255, 2284, 2300, 2307, 2585, 2445, 182, 1202, 5, 170, 151, 127, 5, 0, 0, 0, 0], ['20190305T143749_20190305T144455_T19HCB', -70.99206027339754, -34.58513843860158, 1551797551000, 963, 1177, 1403, 1636, 1804, 2001, 2104, 2139, 2124, 2126, 2550, 2525, 114, 1087, 5, 162, 140, 119, 3, 0, 0, 0, 0], ['20190310T143751_20190310T144453_T19HCB', -70.99206027339754, -34.58513843860158, 1552229548000, 964, 1128, 1403, 1635, 1848, 2047, 2131, 2121, 2167, 2167, 2529, 2426, 188, 1757, 5, 161, 140, 114, 3, 0, 0, 0, 0], ['20190315T143749_20190315T144907_T19HCB', -70.99206027339754, -34.58513843860158, 1552661551000, 913, 1129, 1359, 1593, 1768, 1962, 2056, 2094, 2076, 2097, 2494, 2470, 126, 1104, 5, 158, 137, 114, 2, 0, 0, 0, 0], ['20190320T143751_20190320T144726_T19HCB', -70.99206027339754, -34.58513843860158, 1553093551000, 905, 1086, 1348, 1590, 1744, 1947, 2024, 2127, 2061, 2076, 2425, 2352, 126, 473, 5, 157, 135, 110, 3, 0, 0, 0, 0], ['20190325T143749_20190325T144125_T19HCB', -70.99206027339754, -34.58513843860158, 1553525554000, 869, 1101, 1333, 1557, 1712, 1901, 1986, 2044, 2016, 2024, 2434, 2412, 114, 992, 5, 155, 135, 112, 2, 0, 0, 0, 0], ['20190414T143759_20190414T144503_T19HCB', -70.99206027339754, -34.58513843860158, 1555253558000, 992, 1222, 1404, 1582, 1724, 1915, 1993, 2071, 2015, 2004, 2412, 2360, 91, 768, 5, 158, 141, 124, 4, 0, 0, 0, 0], ['20190509T143751_20190509T145100_T19HCB', -70.99206027339754, -34.58513843860158, 1557413557000, 926, 1077, 1288, 1475, 1650, 1772, 1822, 1828, 1846, 1847, 2322, 2289, 86, 1295, 5, 147, 129, 108, 5, 0, 0, 0, 0], ['20190514T143759_20190514T144506_T19HCB', -70.99206027339754, -34.58513843860158, 1557845562000, 753, 1036, 1249, 1449, 1568, 1700, 1756, 1845, 1781, 1730, 2298, 2295, 69, 595, 5, 144, 125, 104, 4, 0, 0, 0, 0], ['20190608T143751_20190608T144708_T19HCB', -70.99206027339754, -34.58513843860158, 1560005555000, 935, 1068, 1289, 1464, 1587, 1711, 1749, 1832, 1770, 1745, 2269, 2236, 74, 471, 5, 142, 125, 105, 9, 0, 0, 0, 0], ['20190713T143759_20190713T144509_T19HCB', -70.99206027339754, -34.58513843860158, 1563029562319, 866, 1111, 1276, 1420, 1545, 1658, 1697, 1753, 1706, 1669, 2254, 2295, 74, 793, 5, 142, 128, 112, 6, 0, 0, 0, 0], ['20190802T143759_20190802T144505_T19HCB', -70.99206027339754, -34.58513843860158, 1564757561362, 2137, 2210, 2346, 2499, 2608, 2724, 2765, 2959, 2805, 3034, 3468, 3399, 57, 352, 5, 210, 203, 196, 27, 0, 0, 0, 0], ['20190921T143749_20190921T145027_T19HCB', -70.99206027339754, -34.58513843860158, 1569077552951, 1008, 1208, 1395, 1585, 1715, 1899, 1967, 2070, 1977, 1922, 2475, 2486, 74, 311, 5, 155, 138, 120, 5, 0, 0, 0, 0], ['20191021T143749_20191021T144706_T19HCB', -70.99206027339754, -34.58513843860158, 1571669554693, 1132, 1324, 1512, 1705, 1871, 2107, 2192, 2275, 2201, 2186, 2688, 2689, 74, 577, 5, 165, 147, 130, 5, 0, 0, 0, 0], ['20191105T143731_20191105T144501_T19HCB', -70.99206027339754, -34.58513843860158, 1572965556389, 1171, 1332, 1562, 1764, 1953, 2197, 2272, 2351, 2297, 2248, 2725, 2658, 80, 711, 5, 169, 151, 130, 5, 0, 0, 0, 0], ['20191110T143729_20191110T144457_T19HCB', -70.99206027339754, -34.58513843860158, 1573397552950, 1156, 1371, 1581, 1794, 1964, 2202, 2304, 2374, 2318, 2276, 2804, 2789, 80, 740, 5, 172, 153, 134, 5, 0, 0, 0, 0], ['20191115T143731_20191115T144536_T19HCB', -70.99206027339754, -34.58513843860158, 1573829555368, 1201, 1370, 1624, 1813, 2015, 2245, 2317, 2334, 2343, 2319, 2806, 2737, 80, 1373, 5, 173, 156, 134, 6, 0, 0, 0, 0], ['20191120T143729_20191120T144459_T19HCB', -70.99206027339754, -34.58513843860158, 1574261551109, 1165, 1391, 1611, 1832, 2004, 2251, 2358, 2432, 2371, 2331, 2860, 2829, 97, 699, 5, 176, 157, 137, 5, 0, 0, 0, 0], ['20191130T143719_20191130T144540_T19HCB', -70.99206027339754, -34.58513843860158, 1575125548664, 1170, 1391, 1607, 1837, 2010, 2253, 2348, 2431, 2367, 2323, 2857, 2831, 86, 700, 5, 176, 156, 137, 4, 0, 0, 0, 0], ['20191205T143721_20191205T144632_T19HCB', -70.99206027339754, -34.58513843860158, 1575557551312, 1228, 1383, 1636, 1860, 2052, 2282, 2373, 2435, 2402, 2375, 2835, 2721, 103, 888, 5, 178, 158, 136, 5, 0, 0, 0, 0], ['20191210T143719_20191210T144557_T19HCB', -70.99206027339754, -34.58513843860158, 1575989547814, 1185, 1411, 1626, 1851, 2051, 2259, 2360, 2380, 2372, 2362, 2872, 2852, 109, 1368, 5, 178, 159, 139, 5, 0, 0, 0, 0], ['20191220T143719_20191220T144615_T19HCB', -70.99206027339754, -34.58513843860158, 1576853548452, 1159, 1385, 1590, 1821, 2021, 2230, 2334, 2358, 2346, 2342, 2853, 2824, 103, 1292, 5, 176, 155, 137, 4, 0, 0, 0, 0], ['20191225T143721_20191225T144651_T19HCB', -70.99206027339754, -34.58513843860158, 1577285547976, 1196, 1358, 1618, 1845, 2067, 2285, 2370, 2384, 2392, 2393, 2841, 2729, 154, 1411, 5, 176, 156, 133, 5, 0, 0, 0, 0], ['20191230T143719_20191230T144612_T19HCB', -70.99206027339754, -34.58513843860158, 1577717548631, 1151, 1383, 1606, 1835, 2028, 2215, 2317, 2332, 2328, 2312, 2836, 2804, 114, 1360, 5, 177, 157, 137, 4, 0, 0, 0, 0], ['20200104T143721_20200104T144629_T19HCB', -70.99206027339754, -34.58513843860158, 1578149548017, 1166, 1325, 1594, 1816, 2034, 2227, 2310, 2299, 2335, 2314, 2793, 2672, 148, 1735, 5, 175, 155, 131, 5, 0, 0, 0, 0], ['20200109T143719_20200109T144550_T19HCB', -70.99206027339754, -34.58513843860158, 1578581548247, 1034, 1281, 1513, 1755, 1976, 2208, 2330, 2343, 2346, 2346, 2836, 2787, 262, 1438, 5, 170, 149, 128, 3, 0, 0, 0, 0], ['20200114T143701_20200114T144621_T19HCB', -70.99206027339754, -34.58513843860158, 1579013547691, 1113, 1267, 1536, 1765, 1971, 2206, 2295, 2341, 2329, 2328, 2761, 2636, 199, 1080, 5, 172, 151, 127, 3, 0, 0, 0, 0], ['20200124T143651_20200124T144544_T19HCB', -70.99206027339754, -34.58513843860158, 1579877546822, 694, 774, 970, 1089, 1232, 1412, 1484, 1434, 1495, 1484, 1465, 1271, 245, 1700, 5, 112, 100, 80, 7, 0, 0, 0, 0], ['20200203T143651_20200203T144453_T19HCB', -70.99206027339754, -34.58513843860158, 1580741545421, 1082, 1239, 1516, 1753, 1941, 2138, 2216, 2253, 2247, 2245, 2673, 2563, 148, 1066, 5, 171, 150, 124, 3, 0, 0, 0, 0], ['20200208T143659_20200208T144451_T19HCB', -70.99206027339754, -34.58513843860158, 1581173547985, 1007, 1233, 1470, 1718, 1883, 2075, 2170, 2235, 2191, 2174, 2657, 2620, 137, 794, 5, 169, 147, 125, 3, 0, 0, 0, 0], ['20200213T143721_20200213T144451_T19HCB', -70.99206027339754, -34.58513843860158, 1581605546687, 1007, 1163, 1437, 1680, 1883, 2081, 2161, 2193, 2200, 2196, 2624, 2514, 199, 1224, 5, 166, 144, 118, 2, 0, 0, 0, 0], ['20200218T143659_20200218T144453_T19HCB', -70.99206027339754, -34.58513843860158, 1582037549636, 1143, 1329, 1525, 1738, 1904, 2092, 2185, 2241, 2202, 2197, 2621, 2584, 120, 836, 5, 174, 155, 136, 3, 0, 0, 0, 0], ['20200223T143721_20200223T144452_T19HCB', -70.99206027339754, -34.58513843860158, 1582469548251, 1065, 1188, 1444, 1676, 1873, 2053, 2132, 2162, 2171, 2168, 2564, 2472, 109, 1193, 5, 167, 145, 121, 3, 0, 0, 0, 0], ['20200228T143729_20200228T144346_T19HCB', -70.99206027339754, -34.58513843860158, 1582901550788, 1102, 1262, 1429, 1627, 1816, 1987, 2096, 2094, 2123, 2127, 2564, 2546, 114, 1606, 5, 165, 146, 129, 3, 0, 0, 0, 0], ['20200304T143721_20200304T144453_T19HCB', -70.99206027339754, -34.58513843860158, 1583333549252, 1046, 1165, 1420, 1643, 1841, 2010, 2091, 2096, 2124, 2130, 2522, 2434, 148, 1470, 5, 164, 143, 119, 3, 0, 0, 0, 0], ['20200309T143729_20200309T144430_T19HCB', -70.99206027339754, -34.58513843860158, 1583765551414, 922, 1146, 1385, 1631, 1820, 1954, 2055, 2015, 2073, 2066, 2562, 2551, 143, 2035, 5, 162, 139, 116, 3, 0, 0, 0, 0], ['20200314T143721_20200314T144454_T19HCB', -70.99206027339754, -34.58513843860158, 1584197549779, 966, 1103, 1375, 1611, 1809, 1968, 2045, 2030, 2082, 2083, 2499, 2423, 114, 1782, 5, 161, 139, 112, 3, 0, 0, 0, 0], ['20200319T143729_20200319T144006_T19HCB', -70.99206027339754, -34.58513843860158, 1584629548282, 915, 1126, 1358, 1605, 1767, 1926, 2012, 2064, 2040, 2038, 2479, 2461, 97, 901, 5, 161, 138, 115, 3, 0, 0, 0, 0], ['20200324T143721_20200324T144505_T19HCB', -70.99206027339754, -34.58513843860158, 1585061549795, 936, 1078, 1356, 1598, 1776, 1937, 2007, 2052, 2049, 2056, 2441, 2363, 97, 1014, 5, 159, 137, 110, 3, 0, 0, 0, 0], ['20200408T143729_20200408T145124_T19HCB', -70.99206027339754, -34.58513843860158, 1586357550221, 907, 1105, 1319, 1554, 1720, 1860, 1946, 1964, 1973, 1981, 2410, 2411, 97, 1250, 5, 157, 134, 113, 3, 0, 0, 0, 0], ['20200413T143731_20200413T145116_T19HCB', -70.99206027339754, -34.58513843860158, 1586789552569, 853, 1027, 1275, 1522, 1686, 1833, 1893, 1967, 1935, 1934, 2309, 2273, 91, 813, 5, 153, 130, 105, 2, 0, 0, 0, 0], ['20200418T143719_20200418T144435_T19HCB', -70.99206027339754, -34.58513843860158, 1587221548744, 820, 1018, 1214, 1434, 1603, 1722, 1815, 1808, 1853, 1867, 2296, 2320, 97, 1716, 5, 146, 125, 105, 2, 0, 0, 0, 0], ['20200428T143719_20200428T144554_T19HCB', -70.99206027339754, -34.58513843860158, 1588085549187, 848, 1083, 1289, 1505, 1659, 1805, 1877, 1920, 1899, 1858, 2366, 2344, 86, 885, 5, 148, 128, 108, 5, 0, 0, 0, 0], ['20200513T143731_20200513T144427_T19HCB', -70.99206027339754, -34.58513843860158, 1589381558370, 3715, 3350, 3383, 3403, 3441, 3489, 3520, 3658, 3552, 2864, 3587, 3258, 74, 385, 9, 252, 252, 251, 94, 0, 0, 0, 1024], ['20200518T143729_20200518T144649_T19HCB', -70.99206027339754, -34.58513843860158, 1589813553399, 4887, 4918, 4819, 4707, 4653, 4597, 4657, 4739, 4646, 2965, 4762, 4421, 74, 629, 9, 255, 255, 255, 100, 0, 0, 0, 1024], ['20200523T143731_20200523T144113_T19HCB', -70.99206027339754, -34.58513843860158, 1590245559324, 817, 1036, 1301, 1506, 1643, 1776, 1822, 1891, 1853, 1813, 2305, 2272, 74, 669, 5, 146, 128, 103, 8, 0, 0, 0, 0], ['20200607T143729_20200607T144648_T19HCB', -70.99206027339754, -34.58513843860158, 1591541555643, 927, 1161, 1305, 1463, 1576, 1685, 1727, 1801, 1738, 1718, 2286, 2306, 74, 674, 5, 146, 132, 118, 7, 0, 0, 0, 0], ['20200722T143731_20200722T144054_T19HCB', -70.99206027339754, -34.58513843860158, 1595429558865, 821, 1013, 1228, 1405, 1555, 1680, 1712, 1754, 1723, 1659, 2201, 2165, 74, 791, 5, 138, 121, 101, 8, 0, 0, 0, 0], ['20200811T143731_20200811T145224_T19HCB', -70.99206027339754, -34.58513843860158, 1597157559479, 953, 1121, 1335, 1514, 1648, 1787, 1826, 1917, 1837, 1773, 2321, 2304, 74, 378, 5, 149, 132, 112, 8, 0, 0, 0, 0], ['20200816T143729_20200816T144410_T19HCB', -70.99206027339754, -34.58513843860158, 1597589557100, 915, 1123, 1304, 1500, 1641, 1783, 1844, 1905, 1844, 1788, 2393, 2410, 63, 584, 5, 148, 130, 112, 5, 0, 0, 0, 0], ['20200821T143731_20200821T144847_T19HCB', -70.99206027339754, -34.58513843860158, 1598021559171, 932, 1110, 1332, 1521, 1654, 1802, 1852, 1952, 1864, 1817, 2336, 2311, 63, 334, 5, 150, 132, 112, 6, 0, 0, 0, 0], ['20200920T143731_20200920T145205_T19HCB', -70.99206027339754, -34.58513843860158, 1600613558429, 1034, 1191, 1414, 1606, 1772, 1965, 2020, 2090, 2039, 1997, 2476, 2449, 74, 698, 5, 158, 140, 120, 5, 0, 0, 0, 0], ['20201005T143729_20201005T144602_T19HCB', -70.99206027339754, -34.58513843860158, 1601909557064, 1023, 1258, 1470, 1652, 1806, 2024, 2092, 2187, 2101, 2089, 2588, 2591, 74, 578, 5, 162, 146, 126, 4, 0, 0, 0, 0], ['20201010T143731_20201010T144131_T19HCB', -70.99206027339754, -34.58513843860158, 1602341559343, 1082, 1242, 1480, 1676, 1863, 2089, 2154, 2225, 2176, 2132, 2619, 2557, 91, 759, 5, 163, 146, 124, 5, 0, 0, 0, 0], ['20201015T143729_20201015T144515_T19HCB', -70.99206027339754, -34.58513843860158, 1602773557244, 1045, 1273, 1482, 1664, 1856, 2090, 2177, 2192, 2187, 2184, 2659, 2645, 114, 1529, 5, 164, 148, 128, 3, 0, 0, 0, 0], ['20201020T143731_20201020T144304_T19HCB', -70.99206027339754, -34.58513843860158, 1603205558987, 1105, 1270, 1519, 1717, 1904, 2147, 2218, 2284, 2244, 2219, 2641, 2582, 86, 818, 5, 167, 149, 127, 5, 0, 0, 0, 0], ['20201030T143731_20201030T144423_T19HCB', -70.99206027339754, -34.58513843860158, 1604069558663, 1169, 1318, 1550, 1760, 1954, 2211, 2287, 2367, 2317, 2287, 2705, 2630, 91, 749, 5, 171, 152, 131, 5, 0, 0, 0, 0], ['20201109T143731_20201109T144520_T19HCB', -70.99206027339754, -34.58513843860158, 1604933557735, 1189, 1348, 1591, 1805, 2019, 2273, 2353, 2397, 2381, 2375, 2772, 2688, 114, 1147, 5, 175, 156, 134, 5, 0, 0, 0, 0], ['20201114T143729_20201114T144548_T19HCB', -70.99206027339754, -34.58513843860158, 1605365554379, 1112, 1286, 1445, 1620, 1807, 2053, 2158, 2208, 2180, 2029, 2434, 2319, 103, 1005, 5, 160, 145, 130, 9, 0, 0, 0, 0], ['20201119T143731_20201119T144601_T19HCB', -70.99206027339754, -34.58513843860158, 1605797556119, 3222, 2866, 2969, 3117, 3325, 3554, 3651, 3663, 3681, 3301, 3926, 3568, 148, 1124, 9, 230, 223, 215, 60, 0, 0, 0, 1024], ['20201124T143729_20201124T144632_T19HCB', -70.99206027339754, -34.58513843860158, 1606229553754, 1192, 1399, 1620, 1841, 2049, 2276, 2382, 2402, 2395, 2385, 2873, 2852, 103, 1327, 5, 177, 158, 138, 5, 0, 0, 0, 0], ['20201129T143731_20201129T144635_T19HCB', -70.99206027339754, -34.58513843860158, 1606661553688, 1192, 1366, 1624, 1847, 2053, 2299, 2385, 2431, 2413, 2408, 2852, 2744, 103, 1063, 5, 177, 157, 134, 5, 0, 0, 0, 0], ['20201204T143729_20201204T144651_T19HCB', -70.99206027339754, -34.58513843860158, 1607093552286, 1175, 1402, 1626, 1863, 2061, 2284, 2393, 2429, 2410, 2410, 2882, 2859, 103, 1166, 5, 180, 159, 139, 4, 0, 0, 0, 0], ['20201209T143721_20201209T144639_T19HCB', -70.99206027339754, -34.58513843860158, 1607525550290, 1233, 1394, 1667, 1899, 2092, 2327, 2421, 2493, 2447, 2421, 2857, 2733, 109, 816, 5, 181, 161, 137, 5, 0, 0, 0, 0], ['20201224T143729_20201224T144624_T19HCB', -70.99206027339754, -34.58513843860158, 1608821550566, 1148, 1372, 1607, 1845, 2027, 2251, 2358, 2409, 2375, 2375, 2851, 2816, 109, 1062, 5, 178, 157, 136, 4, 0, 0, 0, 0], ['20201229T143731_20201229T144704_T19HCB', -70.99206027339754, -34.58513843860158, 1609253553407, 1180, 1361, 1631, 1852, 2070, 2298, 2379, 2377, 2404, 2379, 2818, 2714, 171, 1645, 5, 179, 159, 135, 5, 0, 0, 0, 0], ['20210113T143729_20210113T144551_T19HCB', -70.99206027339754, -34.58513843860158, 1610549553150, 1055, 1307, 1555, 1797, 1968, 2194, 2289, 2352, 2306, 2307, 2763, 2722, 131, 1025, 5, 175, 154, 131, 3, 0, 0, 0, 0], ['20210118T143731_20210118T144622_T19HCB', -70.99206027339754, -34.58513843860158, 1610981554330, 1111, 1278, 1551, 1784, 1996, 2245, 2336, 2376, 2367, 2379, 2733, 2630, 217, 1198, 5, 176, 156, 129, 3, 0, 0, 0, 0], ['20210123T143729_20210123T144511_T19HCB', -70.99206027339754, -34.58513843860158, 1611413553410, 1072, 1325, 1570, 1787, 1988, 2194, 2302, 2267, 2313, 2308, 2775, 2717, 228, 2290, 5, 175, 156, 133, 3, 0, 0, 0, 0], ['20210202T143729_20210202T144435_T19HCB', -70.99206027339754, -34.58513843860158, 1612277553028, 1119, 1362, 1577, 1773, 1951, 2194, 2286, 2324, 2284, 2259, 2735, 2690, 114, 1175, 5, 170, 152, 133, 6, 0, 0, 0, 0], ['20210222T143729_20210222T144232_T19HCB', -70.99206027339754, -34.58513843860158, 1614005551606, 1022, 1266, 1482, 1669, 1832, 2074, 2171, 2212, 2174, 2167, 2606, 2567, 91, 1115, 5, 162, 145, 126, 4, 0, 0, 0, 0], ['20210227T143731_20210227T144205_T19HCB', -70.99206027339754, -34.58513843860158, 1614437553365, 1044, 1222, 1464, 1655, 1836, 2075, 2154, 2191, 2178, 2169, 2539, 2462, 103, 1143, 5, 161, 144, 122, 5, 0, 0, 0, 0], ['20210304T143729_20210304T144120_T19HCB', -70.99206027339754, -34.58513843860158, 1614869552554, 972, 1226, 1443, 1629, 1807, 2024, 2127, 2105, 2130, 2111, 2582, 2546, 103, 1962, 5, 159, 142, 123, 4, 0, 0, 0, 0], ['20210309T143731_20210309T144030_T19HCB', -70.99206027339754, -34.58513843860158, 1615301553274, 1009, 1194, 1441, 1633, 1812, 2041, 2120, 2147, 2147, 2141, 2509, 2441, 103, 1239, 5, 160, 142, 119, 6, 0, 0, 0, 0], ['20210314T143729_20210314T144348_T19HCB', -70.99206027339754, -34.58513843860158, 1615733552844, 965, 1214, 1421, 1600, 1783, 2007, 2109, 2080, 2115, 2102, 2550, 2525, 137, 2126, 5, 158, 141, 122, 4, 0, 0, 0, 0], ['20210324T143729_20210324T144557_T19HCB', -70.99206027339754, -34.58513843860158, 1616597552458, 922, 1165, 1372, 1557, 1741, 1954, 2053, 2053, 2062, 2070, 2516, 2484, 165, 1574, 5, 154, 137, 118, 3, 0, 0, 0, 0], ['20210329T143721_20210329T144857_T19HCB', -70.99206027339754, -34.58513843860158, 1617029551179, 9135, 8584, 8158, 7908, 7822, 7669, 7678, 7828, 7645, 4889, 6412, 5346, 120, 477, 9, 255, 255, 255, 100, 0, 0, 0, 1024], ['20210403T143729_20210403T144408_T19HCB', -70.99206027339754, -34.58513843860158, 1617461551421, 949, 1153, 1361, 1556, 1713, 1918, 2017, 2052, 2032, 2025, 2459, 2437, 97, 873, 5, 154, 135, 116, 5, 0, 0, 0, 0], ['20210413T143729_20210413T144443_T19HCB', -70.99206027339754, -34.58513843860158, 1618325549784, 917, 1125, 1340, 1540, 1686, 1883, 1975, 2030, 1994, 1974, 2418, 2394, 86, 716, 5, 153, 134, 114, 4, 0, 0, 0, 0], ['20210428T143721_20210428T144813_T19HCB', -70.99206027339754, -34.58513843860158, 1619621550694, 1037, 1147, 1358, 1531, 1689, 1874, 1933, 1989, 1958, 1975, 2358, 2288, 86, 701, 5, 152, 136, 116, 5, 0, 0, 0, 0], ['20210523T143729_20210523T144653_T19HCB', -70.99206027339754, -34.58513843860158, 1621781553708, 793, 1065, 1265, 1454, 1567, 1718, 1776, 1860, 1791, 1722, 2329, 2322, 86, 528, 5, 142, 125, 106, 6, 0, 0, 0, 0], ['20210602T143729_20210602T144154_T19HCB', -70.99206027339754, -34.58513843860158, 1622645554421, 3253, 3534, 3705, 3829, 3895, 3893, 4006, 3915, 4012, 2529, 4183, 3728, 137, 1283, 9, 255, 255, 255, 100, 0, 0, 0, 1024], ['20210612T143729_20210612T144654_T19HCB', -70.99206027339754, -34.58513843860158, 1623509554558, 4983, 4996, 5120, 5187, 5165, 5139, 5190, 5362, 5204, 3949, 5211, 4751, 74, 471, 9, 255, 255, 255, 100, 0, 0, 0, 1024], ['20210617T143731_20210617T144701_T19HCB', -70.99206027339754, -34.58513843860158, 1623941552647, 858, 989, 1200, 1382, 1541, 1664, 1702, 1728, 1724, 1711, 2244, 2218, 109, 1059, 5, 136, 119, 99, 6, 0, 0, 0, 0], ['20210717T143731_20210717T144707_T19HCB', -70.99206027339754, -34.58513843860158, 1626533556816, 852, 1049, 1242, 1421, 1534, 1657, 1702, 1807, 1728, 1642, 2176, 2145, 86, 277, 5, 142, 125, 106, 8, 0, 0, 0, 0], ['20210905T143731_20210905T144816_T19HCB', -70.99206027339754, -34.58513843860158, 1630853554172, 990, 1094, 1310, 1503, 1680, 1838, 1896, 1925, 1917, 1902, 2419, 2373, 137, 928, 5, 149, 131, 110, 5, 0, 0, 0, 0], ['20210930T143729_20210930T144113_T19HCB', -70.99206027339754, -34.58513843860158, 1633013552924, 1028, 1234, 1419, 1608, 1774, 1980, 2045, 2092, 2054, 2036, 2567, 2586, 103, 947, 5, 158, 140, 123, 4, 0, 0, 0, 0], ['20211010T143729_20211010T144143_T19HCB', -70.99206027339754, -34.58513843860158, 1633877554423, 1047, 1260, 1452, 1631, 1831, 2057, 2139, 2130, 2140, 2138, 2645, 2653, 148, 1595, 5, 161, 145, 127, 4, 0, 0, 0, 0], ['20211025T143731_20211025T144354_T19HCB', -70.99206027339754, -34.58513843860158, 1635173558620, 1169, 1323, 1559, 1757, 1943, 2194, 2270, 2356, 2292, 2283, 2702, 2635, 91, 575, 5, 170, 152, 130, 6, 0, 0, 0, 0], ['20211104T143731_20211104T144458_T19HCB', -70.99206027339754, -34.58513843860158, 1636037557327, 1220, 1363, 1593, 1791, 1985, 2253, 2332, 2406, 2357, 2292, 2750, 2671, 109, 717, 5, 173, 155, 135, 5, 0, 0, 0, 0], ['20211109T143729_20211109T144511_T19HCB', -70.99206027339754, -34.58513843860158, 1636469553398, 1150, 1377, 1590, 1789, 1996, 2249, 2344, 2352, 2352, 2357, 2835, 2815, 126, 1516, 5, 173, 156, 136, 4, 0, 0, 0, 0], ['20211114T143731_20211114T144539_T19HCB', -70.99206027339754, -34.58513843860158, 1636901554837, 1222, 1343, 1590, 1807, 2004, 2272, 2361, 2446, 2392, 2356, 2819, 2702, 103, 609, 5, 174, 155, 132, 5, 0, 0, 0, 0], ['20211119T143729_20211119T144513_T19HCB', -70.99206027339754, -34.58513843860158, 1637333551025, 1183, 1394, 1619, 1824, 2025, 2281, 2383, 2402, 2401, 2405, 2868, 2836, 126, 1418, 5, 177, 159, 138, 4, 0, 0, 0, 0], ['20211129T143719_20211129T144547_T19HCB', -70.99206027339754, -34.58513843860158, 1638197549079, 1175, 1373, 1597, 1819, 2022, 2257, 2374, 2391, 2391, 2396, 2868, 2857, 103, 1346, 5, 177, 157, 137, 4, 0, 0, 0, 0], ['20211204T143731_20211204T144642_T19HCB', -70.99206027339754, -34.58513843860158, 1638629552856, 1237, 1367, 1622, 1847, 2059, 2310, 2412, 2454, 2445, 2446, 2842, 2734, 126, 1031, 5, 179, 159, 136, 5, 0, 0, 0, 0], ['20211214T143731_20211214T144703_T19HCB', -70.99206027339754, -34.58513843860158, 1639493553253, 1240, 1394, 1636, 1844, 2047, 2298, 2379, 2424, 2409, 2403, 2835, 2754, 120, 1045, 5, 177, 158, 137, 5, 0, 0, 0, 0], ['20211219T143719_20211219T144622_T19HCB', -70.99206027339754, -34.58513843860158, 1639925547879, 1163, 1392, 1618, 1827, 2002, 2246, 2343, 2400, 2363, 2349, 2876, 2832, 103, 1022, 5, 176, 157, 137, 4, 0, 0, 0, 0], ['20211224T143731_20211224T144705_T19HCB', -70.99206027339754, -34.58513843860158, 1640357554876, 1241, 1393, 1648, 1854, 2059, 2296, 2378, 2401, 2403, 2411, 2836, 2742, 137, 1251, 5, 178, 160, 138, 5, 0, 0, 0, 0], ['20220103T143731_20220103T144644_T19HCB', -70.99206027339754, -34.58513843860158, 1641221555186, 1196, 1353, 1606, 1818, 2030, 2252, 2332, 2320, 2361, 2344, 2805, 2722, 103, 1738, 5, 176, 157, 134, 5, 0, 0, 0, 0], ['20220108T143729_20220108T144559_T19HCB', -70.99206027339754, -34.58513843860158, 1641653549607, 1207, 1415, 1625, 1815, 2008, 2232, 2333, 2313, 2343, 2330, 2822, 2778, 177, 1956, 5, 177, 161, 141, 4, 0, 0, 0, 0], ['20220113T143731_20220113T144640_T19HCB', -70.99206027339754, -34.58513843860158, 1642085554492, 1195, 1341, 1592, 1788, 2032, 2262, 2354, 2268, 2390, 2384, 2812, 2694, 256, 2873, 5, 175, 158, 135, 5, 0, 0, 0, 0], ['20220123T143731_20220123T145149_T19HCB', -70.99206027339754, -34.58513843860158, 1642949553572, 1141, 1268, 1536, 1771, 1981, 2213, 2306, 2345, 2341, 2365, 2747, 2631, 205, 1064, 5, 174, 153, 128, 3, 0, 0, 0, 0], ['20220128T143719_20220128T144002_T19HCB', -70.99206027339754, -34.58513843860158, 1643381547400, 6135, 5718, 5471, 5431, 5488, 5597, 5757, 5778, 5721, 4156, 5705, 5160, 199, 731, 9, 255, 255, 255, 99, 0, 0, 0, 0], ['20220202T143731_20220202T144947_T19HCB', -70.99206027339754, -34.58513843860158, 1643813553483, 2083, 2240, 2488, 2739, 2972, 3181, 3272, 3253, 3305, 3311, 3713, 3595, 234, 1891, 5, 171, 148, 125, 0, 0, 0, 0, 0], ['20220207T143719_20220207T144217_T19HCB', -70.99206027339754, -34.58513843860158, 1644245547876, 2093, 2291, 2498, 2739, 2933, 3133, 3239, 3258, 3258, 3284, 3692, 3654, 137, 1362, 5, 172, 150, 130, 0, 0, 0, 0, 0], ['20220212T143731_20220212T144710_T19HCB', -70.99206027339754, -34.58513843860158, 1644677553097, 2045, 2192, 2424, 2666, 2855, 3068, 3152, 3203, 3192, 3198, 3574, 3503, 143, 991, 5, 167, 145, 122, 0, 0, 0, 0, 0], ['20220217T143719_20220217T144918_T19HCB', -70.99206027339754, -34.58513843860158, 1645109546960, 2044, 2230, 2429, 2686, 2866, 3066, 3174, 3229, 3199, 3213, 3612, 3582, 120, 892, 5, 168, 145, 126, 0, 0, 0, 0, 0], ['20220227T143729_20220227T144150_T19HCB', -70.99206027339754, -34.58513843860158, 1645973549675, 1982, 2206, 2415, 2656, 2837, 3031, 3121, 3159, 3137, 3151, 3587, 3570, 109, 1218, 5, 164, 142, 122, 0, 0, 0, 0, 0], ['20220309T143729_20220309T144401_T19HCB', -70.99206027339754, -34.58513843860158, 1646837551310, 1945, 2180, 2398, 2636, 2806, 2998, 3083, 3117, 3104, 3122, 3552, 3532, 126, 1223, 5, 163, 141, 120, 0, 0, 0, 0, 0], ['20220314T143731_20220314T145009_T19HCB', -70.99206027339754, -34.58513843860158, 1647269557512, 1949, 2116, 2354, 2596, 2780, 2966, 3037, 3064, 3076, 3095, 3472, 3427, 126, 1228, 5, 160, 137, 114, 0, 0, 0, 0, 0], ['20220324T143731_20220324T144728_T19HCB', -70.99206027339754, -34.58513843860158, 1648133556293, 1899, 2083, 2335, 2584, 2748, 2929, 2997, 3081, 3033, 3054, 3429, 3389, 114, 601, 5, 157, 134, 110, 0, 0, 0, 0, 0], ['20220329T143729_20220329T144338_T19HCB', -70.99206027339754, -34.58513843860158, 1648565550367, 1902, 2123, 2332, 2585, 2753, 2930, 3008, 3073, 3030, 3062, 3482, 3475, 126, 907, 5, 158, 134, 113, 0, 0, 0, 0, 0], ['20220403T143731_20220403T144101_T19HCB', -70.99206027339754, -34.58513843860158, 1648997555211, 3496, 3828, 3841, 3921, 4030, 4181, 4263, 4371, 4320, 2957, 4320, 4036, 137, 494, 8, 229, 226, 223, 74, 0, 0, 0, 0], ['20220408T143729_20220408T144418_T19HCB', -70.99206027339754, -34.58513843860158, 1649429550389, 1834, 2067, 2274, 2539, 2704, 2863, 2946, 2989, 2975, 2989, 3427, 3426, 126, 1164, 5, 154, 129, 109, 0, 0, 0, 0, 0], ['20220413T143731_20220413T144923_T19HCB', -70.99206027339754, -34.58513843860158, 1649861556226, 1840, 2021, 2266, 2517, 2673, 2836, 2907, 2993, 2942, 2955, 3323, 3303, 86, 527, 5, 152, 128, 104, 0, 0, 0, 0, 0], ['20220418T143719_20220418T144518_T19HCB', -70.99206027339754, -34.58513843860158, 1650293549219, 1964, 2134, 2302, 2535, 2695, 2840, 2919, 2970, 2946, 2979, 3371, 3385, 126, 924, 5, 154, 132, 116, 0, 0, 0, 0, 0], ['20220428T143719_20220428T144609_T19HCB', -70.99206027339754, -34.58513843860158, 1651157546232, 1958, 2158, 2318, 2531, 2693, 2857, 2932, 2973, 2938, 2898, 3387, 3377, 91, 772, 5, 149, 129, 114, 0, 0, 0, 0, 0], ['20220503T143731_20220503T145107_T19HCB', -70.99206027339754, -34.58513843860158, 1651589558434, 2008, 2159, 2344, 2532, 2705, 2856, 2913, 2939, 2926, 2906, 3360, 3343, 80, 943, 5, 151, 133, 116, 0, 0, 0, 0, 0], ['20220518T143729_20220518T144638_T19HCB', -70.99206027339754, -34.58513843860158, 1652885553179, 9436, 9129, 8813, 8730, 8612, 8508, 8513, 8892, 8456, 6763, 7121, 6233, 97, 212, 9, 255, 255, 255, 100, 0, 0, 0, 0], ['20220612T143741_20220612T144942_T19HCB', -70.99206027339754, -34.58513843860158, 1655045563485, 6329, 6651, 6714, 6839, 6998, 6898, 6872, 7161, 6877, 6632, 6313, 5690, 91, 428, 5, 255, 255, 255, 0, 0, 0, 0, 0], ['20220617T143729_20220617T145150_T19HCB', -70.99206027339754, -34.58513843860158, 1655477557502, 5655, 5687, 5664, 5794, 5763, 5776, 5843, 6117, 5877, 4460, 5873, 5508, 97, 192, 9, 255, 255, 255, 100, 0, 0, 0, 0], ['20220627T143729_20220627T145151_T19HCB', -70.99206027339754, -34.58513843860158, 1656341558521, 1824, 2071, 2220, 2398, 2539, 2665, 2709, 2744, 2716, 2688, 3274, 3327, 80, 921, 5, 137, 121, 107, 0, 0, 0, 0, 0], ['20220702T143741_20220702T144547_T19HCB', -70.99206027339754, -34.58513843860158, 1656773566551, 1837, 1988, 2152, 2309, 2458, 2586, 2617, 2672, 2631, 2598, 3056, 3057, 91, 633, 5, 128, 113, 97, 0, 0, 0, 0, 0], ['20220707T143729_20220707T145153_T19HCB', -70.99206027339754, -34.58513843860158, 1657205558384, 1770, 2010, 2171, 2339, 2461, 2602, 2646, 2717, 2652, 2582, 3161, 3176, 91, 548, 5, 131, 115, 100, 0, 0, 0, 0, 0], ['20220722T143741_20220722T144921_T19HCB', -70.99206027339754, -34.58513843860158, 1658501564542, 1861, 2029, 2223, 2402, 2565, 2693, 2729, 2750, 2746, 2716, 3240, 3267, 97, 1032, 5, 137, 121, 102, 0, 0, 0, 0, 0], ['20220811T143741_20220811T144521_T19HCB', -70.99206027339754, -34.58513843860158, 1660229565603, 2149, 2279, 2425, 2587, 2725, 2862, 2900, 2973, 2908, 2869, 3349, 3328, 109, 504, 5, 159, 143, 129, 0, 0, 0, 0, 0], ['20220821T143741_20220821T144615_T19HCB', -70.99206027339754, -34.58513843860158, 1661093566196, 4127, 4351, 4666, 4974, 5121, 5207, 5296, 5517, 5374, 4491, 5800, 5442, 154, 334, 9, 252, 249, 244, 99, 0, 0, 0, 0], ['20220905T143729_20220905T144607_T19HCB', -70.99206027339754, -34.58513843860158, 1662389555266, 1976, 2177, 2354, 2541, 2673, 2843, 2910, 2997, 2917, 2906, 3419, 3443, 120, 452, 5, 152, 134, 117, 0, 0, 0, 0, 0], ['20220910T143741_20220910T144450_T19HCB', -70.99206027339754, -34.58513843860158, 1662821564289, 2004, 2151, 2359, 2545, 2709, 2884, 2932, 2998, 2949, 2934, 3415, 3402, 143, 621, 5, 152, 135, 115, 0, 0, 0, 0, 0], ['20220930T143731_20220930T145022_T19HCB', -70.99206027339754, -34.58513843860158, 1664549560814, 5181, 5267, 5319, 5459, 5592, 5754, 5848, 6060, 5919, 4677, 6087, 5464, 194, 403, 9, 253, 252, 251, 99, 0, 0, 0, 0], ['20221010T143731_20221010T144648_T19HCB', -70.99206027339754, -34.58513843860158, 1665413559337, 2108, 2247, 2452, 2640, 2842, 3066, 3124, 3166, 3143, 3137, 3587, 3557, 160, 1001, 5, 161, 143, 124, 0, 0, 0, 0, 0], ['20221015T143729_20221015T144352_T19HCB', -70.99206027339754, -34.58513843860158, 1665845552688, 2061, 2279, 2467, 2661, 2837, 3073, 3151, 3224, 3161, 3138, 3639, 3647, 126, 755, 5, 163, 145, 128, 0, 0, 0, 0, 0], ['20221020T143731_20221020T145013_T19HCB', -70.99206027339754, -34.58513843860158, 1666277555057, 2176, 2282, 2503, 2693, 2892, 3137, 3215, 3258, 3238, 3230, 3662, 3583, 131, 845, 5, 166, 149, 128, 0, 0, 0, 0, 0], ['20221104T143729_20221104T145208_T19HCB', -70.99206027339754, -34.58513843860158, 1667573551299, 6245, 6109, 5909, 5864, 5897, 6024, 6130, 6323, 6130, 4673, 6076, 5384, 194, 513, 9, 254, 254, 254, 99, 0, 0, 0, 0], ['20221114T143729_20221114T144254_T19HCB', -70.99206027339754, -34.58513843860158, 1668437553143, 2169, 2379, 2577, 2774, 2967, 3221, 3314, 3339, 3324, 3311, 3804, 3805, 109, 1277, 5, 172, 154, 136, 0, 0, 0, 0, 0], ['20221119T143731_20221119T145150_T19HCB', -70.99206027339754, -34.58513843860158, 1668869554657, 2202, 2355, 2579, 2787, 3015, 3259, 3341, 3354, 3366, 3362, 3820, 3753, 148, 1371, 5, 173, 154, 134, 0, 0, 0, 0, 0], ['20221124T143729_20221124T144526_T19HCB', -70.99206027339754, -34.58513843860158, 1669301552926, 2202, 2410, 2604, 2814, 3027, 3265, 3375, 3332, 3379, 3363, 3882, 3866, 137, 2154, 5, 175, 157, 139, 0, 0, 0, 0, 0], ['20221204T143729_20221204T144506_T19HCB', -70.99206027339754, -34.58513843860158, 1670165550992, 2155, 2375, 2582, 2803, 3006, 3253, 3356, 3378, 3365, 3373, 3860, 3851, 131, 1358, 5, 175, 155, 136, 0, 0, 0, 0, 0], ['20221209T143731_20221209T144140_T19HCB', -70.99206027339754, -34.58513843860158, 1670597554003, 2216, 2361, 2595, 2817, 3049, 3282, 3368, 3353, 3392, 3402, 3858, 3779, 143, 1725, 5, 176, 156, 135, 0, 0, 0, 0, 0], ['20221214T143729_20221214T144527_T19HCB', -70.99206027339754, -34.58513843860158, 1671029551501, 2179, 2398, 2607, 2834, 3042, 3272, 3379, 3374, 3391, 3391, 3897, 3856, 154, 1650, 5, 178, 158, 139, 0, 0, 0, 0, 0], ['20221219T143731_20221219T144224_T19HCB', -70.99206027339754, -34.58513843860158, 1671461552172, 2222, 2363, 2595, 2836, 3065, 3291, 3376, 3391, 3407, 3418, 3854, 3761, 182, 1436, 5, 178, 157, 135, 0, 0, 0, 0, 0], ['20221224T143729_20221224T144526_T19HCB', -70.99206027339754, -34.58513843860158, 1671893552854, 2157, 2385, 2605, 2835, 3025, 3260, 3360, 3399, 3373, 3382, 3850, 3830, 137, 1143, 5, 179, 158, 138, 0, 0, 0, 0, 0], ['20221229T143731_20221229T144221_T19HCB', -70.99206027339754, -34.58513843860158, 1672325552325, 2177, 2330, 2572, 2811, 3019, 3241, 3334, 3380, 3361, 3371, 3802, 3718, 154, 1006, 5, 177, 155, 133, 0, 0, 0, 0, 0], ['20230103T143729_20230103T144503_T19HCB', -70.99206027339754, -34.58513843860158, 1672757551925, 2163, 2379, 2581, 2797, 2983, 3220, 3317, 3352, 3325, 3318, 3822, 3804, 131, 1187, 5, 174, 155, 136, 0, 0, 0, 0, 0], ['20230108T143731_20230108T144127_T19HCB', -70.99206027339754, -34.58513843860158, 1673189552118, 2170, 2322, 2546, 2761, 2994, 3215, 3300, 3253, 3328, 3289, 3795, 3716, 182, 2266, 5, 171, 151, 131, 0, 0, 0, 0, 0], ['20230113T143719_20230113T144449_T19HCB', -70.99206027339754, -34.58513843860158, 1673621549242, 2161, 2363, 2556, 2791, 2984, 3202, 3310, 3345, 3329, 3326, 3794, 3774, 131, 1077, 5, 175, 153, 135, 0, 0, 0, 0, 0], ['20230118T143721_20230118T144030_T19HCB', -70.99206027339754, -34.58513843860158, 1674053548690, 2185, 2313, 2543, 2780, 2988, 3203, 3299, 3333, 3326, 3334, 3765, 3653, 154, 1094, 5, 173, 152, 131, 0, 0, 0, 0, 0], ['20230123T143729_20230123T144415_T19HCB', -70.99206027339754, -34.58513843860158, 1674485551564, 2110, 2313, 2509, 2753, 2956, 3153, 3268, 3278, 3285, 3291, 3762, 3741, 160, 1428, 5, 172, 150, 132, 0, 0, 0, 0, 0], ['20230128T143721_20230128T145103_T19HCB', -70.99206027339754, -34.58513843860158, 1674917551339, 2093, 2259, 2501, 2733, 2922, 3134, 3218, 3271, 3249, 3248, 3678, 3605, 131, 943, 5, 170, 149, 126, 0, 0, 0, 0, 0], ['20230202T143729_20230202T144125_T19HCB', -70.99206027339754, -34.58513843860158, 1675349550292, 2117, 2312, 2506, 2753, 2928, 3133, 3236, 3290, 3253, 3248, 3712, 3680, 120, 845, 5, 172, 150, 132, 0, 0, 0, 0, 0], ['20230207T143731_20230207T144823_T19HCB', -70.99206027339754, -34.58513843860158, 1675781552461, 2449, 2532, 2671, 2797, 3011, 3228, 3315, 3314, 3344, 3381, 3691, 3576, 505, 1524, 5, 182, 171, 156, 0, 0, 0, 0, 0], ['20230212T143729_20230212T144116_T19HCB', -70.99206027339754, -34.58513843860158, 1676213552076, 2148, 2340, 2511, 2730, 2912, 3119, 3220, 3269, 3235, 3260, 3678, 3639, 262, 1034, 5, 173, 153, 137, 0, 0, 0, 0, 0], ['20230217T143721_20230217T145142_T19HCB', -70.99206027339754, -34.58513843860158, 1676645550208, 2066, 2193, 2439, 2674, 2887, 3086, 3164, 3156, 3199, 3221, 3636, 3549, 165, 1674, 5, 166, 144, 121, 0, 0, 0, 0, 0], ['20230222T143729_20230222T144356_T19HCB', -70.99206027339754, -34.58513843860158, 1677077553434, 1992, 2219, 2420, 2658, 2847, 3047, 3144, 3163, 3166, 3180, 3630, 3598, 205, 1444, 5, 165, 143, 124, 0, 0, 0, 0, 0], ['20230227T143721_20230227T144806_T19HCB', -70.99206027339754, -34.58513843860158, 1677509551109, 1972, 2147, 2389, 2639, 2820, 3004, 3090, 3146, 3122, 3119, 3545, 3476, 131, 899, 5, 163, 139, 116, 0, 0, 0, 0, 0], ['20230304T143729_20230304T144019_T19HCB', -70.99206027339754, -34.58513843860158, 1677941555631, 1931, 2162, 2377, 2630, 2816, 2990, 3087, 3094, 3106, 3119, 3584, 3567, 143, 1549, 5, 162, 139, 118, 0, 0, 0, 0, 0], ['20230309T143721_20230309T144640_T19HCB', -70.99206027339754, -34.58513843860158, 1678373548225, 2069, 2183, 2423, 2667, 2880, 3061, 3150, 3142, 3194, 3214, 3605, 3517, 109, 1623, 5, 166, 143, 120, 0, 0, 0, 0, 0], ['20230314T143729_20230314T145019_T19HCB', -70.99206027339754, -34.58513843860158, 1678805557737, 1900, 2131, 2344, 2589, 2788, 2950, 3052, 3011, 3072, 3071, 3547, 3532, 165, 2260, 5, 159, 136, 115, 0, 0, 0, 0, 0], ['20230319T143731_20230319T145006_T19HCB', -70.99206027339754, -34.58513843860158, 1679237551761, 1907, 2080, 2326, 2571, 2773, 2939, 3016, 3003, 3051, 3066, 3479, 3441, 126, 1795, 5, 157, 134, 110, 0, 0, 0, 0, 0], ['20230324T143729_20230324T144337_T19HCB', -70.99206027339754, -34.58513843860158, 1679669555833, 1833, 2082, 2310, 2566, 2728, 2908, 2994, 3050, 3021, 3043, 3479, 3459, 182, 1028, 5, 157, 133, 110, 0, 0, 0, 0, 0], ['20230329T143721_20230329T144614_T19HCB', -70.99206027339754, -34.58513843860158, 1680101551223, 1956, 2081, 2280, 2498, 2682, 2848, 2922, 2941, 2954, 2956, 3286, 3240, 91, 1229, 5, 151, 130, 111, 0, 0, 0, 0, 0], ['20230408T143731_20230408T144907_T19HCB', -70.99206027339754, -34.58513843860158, 1680965553635, 1842, 2018, 2270, 2527, 2680, 2854, 2934, 3035, 2975, 2988, 3353, 3318, 86, 454, 5, 154, 129, 104, 0, 0, 0, 0, 0], ['20230423T143729_20230423T144456_T19HCB', -70.99206027339754, -34.58513843860158, 1682261555599, 1916, 2113, 2273, 2490, 2655, 2798, 2878, 2894, 2901, 2923, 3324, 3340, 103, 1458, 5, 151, 130, 114, 0, 0, 0, 0, 0], ['20230503T143729_20230503T144923_T19HCB', -70.99206027339754, -34.58513843860158, 1683125556045, 4612, 4612, 4526, 4585, 4578, 4646, 4705, 4899, 4711, 3711, 4836, 4613, 109, 180, 9, 254, 254, 254, 98, 0, 0, 0, 0], ['20230508T143731_20230508T144916_T19HCB', -70.99206027339754, -34.58513843860158, 1683557553294, 2059, 2200, 2376, 2547, 2689, 2856, 2915, 3002, 2940, 2945, 3307, 3272, 86, 462, 5, 154, 138, 121, 0, 0, 0, 0, 0], ['20230513T143729_20230513T144624_T19HCB', -70.99206027339754, -34.58513843860158, 1683989556804, 1912, 2149, 2322, 2510, 2656, 2813, 2877, 2966, 2896, 2892, 3341, 3327, 103, 568, 5, 149, 132, 115, 0, 0, 0, 0, 0]]\n"
     ]
    }
   ],
   "source": [
    "print(info)"
   ]
  },
  {
   "cell_type": "code",
   "execution_count": 576,
   "id": "7c396912",
   "metadata": {},
   "outputs": [
    {
     "name": "stdout",
     "output_type": "stream",
     "text": [
      "['id', 'longitude', 'latitude', 'time', 'B1', 'B2', 'B3', 'B4', 'B5', 'B6', 'B7', 'B8', 'B8A', 'B9', 'B11', 'B12', 'AOT', 'WVP', 'SCL', 'TCI_R', 'TCI_G', 'TCI_B', 'MSK_CLDPRB', 'MSK_SNWPRB', 'QA10', 'QA20', 'QA60']\n"
     ]
    }
   ],
   "source": [
    "# extract the header column names\n",
    "header = info[0]\n",
    "\n",
    "print(info[0])"
   ]
  },
  {
   "cell_type": "code",
   "execution_count": 577,
   "id": "edfd284c",
   "metadata": {},
   "outputs": [],
   "source": [
    "# create a Numpy array of the data\n",
    "data = array(info[1:])"
   ]
  },
  {
   "cell_type": "code",
   "execution_count": 578,
   "id": "835cb7ad",
   "metadata": {},
   "outputs": [
    {
     "name": "stdout",
     "output_type": "stream",
     "text": [
      "[['20181215T143749_20181215T144702_T19HCB' '-70.99206027339754'\n",
      "  '-34.58513843860158' ... '0' '0' '0']\n",
      " ['20181220T143741_20181220T144648_T19HCB' '-70.99206027339754'\n",
      "  '-34.58513843860158' ... '0' '0' '0']\n",
      " ['20181225T143749_20181225T144653_T19HCB' '-70.99206027339754'\n",
      "  '-34.58513843860158' ... '0' '0' '0']\n",
      " ...\n",
      " ['20230503T143729_20230503T144923_T19HCB' '-70.99206027339754'\n",
      "  '-34.58513843860158' ... '0' '0' '0']\n",
      " ['20230508T143731_20230508T144916_T19HCB' '-70.99206027339754'\n",
      "  '-34.58513843860158' ... '0' '0' '0']\n",
      " ['20230513T143729_20230513T144624_T19HCB' '-70.99206027339754'\n",
      "  '-34.58513843860158' ... '0' '0' '0']]\n"
     ]
    }
   ],
   "source": [
    "print(data)"
   ]
  },
  {
   "cell_type": "code",
   "execution_count": 579,
   "id": "e5038829",
   "metadata": {},
   "outputs": [
    {
     "data": {
      "text/plain": [
       "['B1',\n",
       " 'B2',\n",
       " 'B3',\n",
       " 'B4',\n",
       " 'B5',\n",
       " 'B6',\n",
       " 'B7',\n",
       " 'B8',\n",
       " 'B8A',\n",
       " 'B9',\n",
       " 'B11',\n",
       " 'B12',\n",
       " 'AOT',\n",
       " 'WVP',\n",
       " 'SCL',\n",
       " 'TCI_R',\n",
       " 'TCI_G',\n",
       " 'TCI_B',\n",
       " 'MSK_CLDPRB',\n",
       " 'MSK_SNWPRB',\n",
       " 'QA10',\n",
       " 'QA20',\n",
       " 'QA60']"
      ]
     },
     "execution_count": 579,
     "metadata": {},
     "output_type": "execute_result"
    }
   ],
   "source": [
    "sentinel.first().bandNames().getInfo()"
   ]
  },
  {
   "cell_type": "code",
   "execution_count": null,
   "id": "fdd20480",
   "metadata": {},
   "outputs": [],
   "source": []
  },
  {
   "cell_type": "code",
   "execution_count": 582,
   "id": "915e70a0",
   "metadata": {},
   "outputs": [],
   "source": [
    "xBand = 'time'\n",
    "yBandList = ['B1',\n",
    "             'B2',\n",
    "             'B3',\n",
    "             'B4',\n",
    "             'B5',\n",
    "             'B6',\n",
    "             'B7',\n",
    "             'B8',\n",
    "             'B8A',\n",
    "             'B9',\n",
    "             'B11',\n",
    "             'B12',\n",
    "             'AOT',\n",
    "             'WVP',\n",
    "             'SCL',\n",
    "             'TCI_R',\n",
    "             'TCI_G',\n",
    "             'TCI_B',\n",
    "             'MSK_CLDPRB',\n",
    "             'MSK_SNWPRB',\n",
    "             'QA10',\n",
    "             'QA20',\n",
    "             'QA60']"
   ]
  },
  {
   "cell_type": "code",
   "execution_count": 583,
   "id": "5ac8c7e3",
   "metadata": {},
   "outputs": [],
   "source": [
    "iBands = [header.index(b) for b in yBandList]\n",
    "yData = data[0:,iBands].astype(np.float)"
   ]
  },
  {
   "cell_type": "code",
   "execution_count": 584,
   "id": "47565b09",
   "metadata": {},
   "outputs": [],
   "source": [
    "band3 = yData[:,2]\n",
    "band4 = yData[:,3]\n",
    "ndvi = (band4 - band3) / (band4 + band3)"
   ]
  },
  {
   "cell_type": "code",
   "execution_count": 585,
   "id": "8d1d4c96",
   "metadata": {},
   "outputs": [],
   "source": [
    "# extract the time information\n",
    "iTime = header.index('time')\n",
    "# convert to Python datetime objects\n",
    "time = [datetime.datetime.fromtimestamp(i/1000) for i in (data[0:,iTime].astype(int))]"
   ]
  },
  {
   "cell_type": "code",
   "execution_count": null,
   "id": "a7cabd4d",
   "metadata": {},
   "outputs": [],
   "source": []
  }
 ],
 "metadata": {
  "kernelspec": {
   "display_name": "Python 3 (ipykernel)",
   "language": "python",
   "name": "python3"
  },
  "language_info": {
   "codemirror_mode": {
    "name": "ipython",
    "version": 3
   },
   "file_extension": ".py",
   "mimetype": "text/x-python",
   "name": "python",
   "nbconvert_exporter": "python",
   "pygments_lexer": "ipython3",
   "version": "3.9.7"
  }
 },
 "nbformat": 4,
 "nbformat_minor": 5
}
